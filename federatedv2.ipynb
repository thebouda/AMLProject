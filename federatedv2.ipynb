{
 "cells": [
  {
   "cell_type": "markdown",
   "metadata": {},
   "source": [
    "## Import libraries"
   ]
  },
  {
   "cell_type": "code",
   "execution_count": 14,
   "metadata": {},
   "outputs": [],
   "source": [
    "import torch\n",
    "import torch.nn as nn\n",
    "from torchvision import datasets, transforms\n",
    "from lenet5 import LeNet\n",
    "import numpy as np\n",
    "import matplotlib\n",
    "import matplotlib.pyplot as plt\n"
   ]
  },
  {
   "cell_type": "markdown",
   "metadata": {},
   "source": [
    "## Set Parameters"
   ]
  },
  {
   "cell_type": "code",
   "execution_count": 22,
   "metadata": {},
   "outputs": [],
   "source": [
    "# Check if cuda is available\n",
    "DEVICE = 'cuda' if torch.cuda.is_available() else 'cpu'\n",
    "\n",
    "# Model Training Parameters\n",
    "LEARNING_RATE = 2e-3  # LR\n",
    "BATCH_SIZE = 32\n",
    "ROUNDS = 10  # R\n",
    "LOCAL_EPOCHS = 10  # E\n",
    "NUM_CLIENTS = 20  # K: number of total clients\n",
    "C = 0.3  # percentage of clients selected at each round\n",
    "# m = C * K : number of  clients selected at each round\n",
    "NUM_SELECTED = max(int(C * NUM_CLIENTS), 1)\n",
    "\n",
    "# Save plots in the folder ./plots or show them\n",
    "SAVE_PLOTS = True\n"
   ]
  },
  {
   "cell_type": "markdown",
   "metadata": {},
   "source": [
    "## Training and Validation functions"
   ]
  },
  {
   "cell_type": "code",
   "execution_count": 16,
   "metadata": {},
   "outputs": [],
   "source": [
    "def train(train_loader, model, criterion, optimizer, device):\n",
    "    model.train()\n",
    "    running_loss = 0\n",
    "    for X, y_target in train_loader:\n",
    "\n",
    "        # set gradient to zero\n",
    "        optimizer.zero_grad()\n",
    "\n",
    "        # If there is a GPU, pass the data to GPU\n",
    "        X = X.to(device)\n",
    "        y_target = y_target.to(device)\n",
    "\n",
    "        # Prediction\n",
    "\n",
    "        # Call model forward()\n",
    "        y_predict, _ = model(X)\n",
    "\n",
    "        # Get loss\n",
    "        loss = criterion(y_predict, y_target)\n",
    "        running_loss += loss.item() * X.size(0)\n",
    "\n",
    "        # Adjusting weights\n",
    "        loss.backward()\n",
    "        optimizer.step()\n",
    "\n",
    "    epoch_loss = running_loss / len(train_loader.dataset)\n",
    "    return model, optimizer, epoch_loss\n",
    "\n",
    "\n",
    "def test(valid_loader, model, criterion, device):\n",
    "    model.eval()\n",
    "    running_loss = 0\n",
    "\n",
    "    for X, y_target in valid_loader:\n",
    "\n",
    "        # If there is a GPU, pass the data to the GPU\n",
    "        X = X.to(device)\n",
    "        y_target = y_target.to(device)\n",
    "\n",
    "        # Prediction and loss\n",
    "\n",
    "        # Call model forward()\n",
    "        y_predict, _ = model(X)\n",
    "\n",
    "        # Get loss\n",
    "        loss = criterion(y_predict, y_target)\n",
    "        running_loss += loss.item() * X.size(0)\n",
    "\n",
    "    epoch_loss = running_loss / len(valid_loader.dataset)\n",
    "    return model, epoch_loss\n",
    "\n",
    "\n",
    "def get_accuracy(model, data_loader, device):\n",
    "    '''\n",
    "    Function for computing the accuracy of the predictions over the entire data_loader\n",
    "    '''\n",
    "\n",
    "    correct_pred = 0\n",
    "    n = 0\n",
    "\n",
    "    with torch.no_grad():\n",
    "        model.eval()\n",
    "        for X, y_true in data_loader:\n",
    "\n",
    "            X = X.to(device)\n",
    "            y_true = y_true.to(device)\n",
    "\n",
    "            _, y_prob = model(X)\n",
    "            _, predicted_labels = torch.max(y_prob, 1)\n",
    "\n",
    "            n += y_true.size(0)\n",
    "            correct_pred += (predicted_labels == y_true).sum()\n",
    "\n",
    "    return correct_pred.float() / n\n",
    "\n",
    "\n",
    "def client_update(model, optimizer, train_loader, device, criterion, epochs):\n",
    "    \"\"\"\n",
    "    This function updates/trains client model on client data\n",
    "    \"\"\"\n",
    "    for e in range(epochs):\n",
    "        model, optimizer, train_loss = train(train_loader, model,\n",
    "                                             criterion, optimizer, device)\n",
    "    return train_loss\n",
    "\n",
    "\n",
    "def server_aggregate(global_model, client_models):\n",
    "    \"\"\"\n",
    "    This function has aggregation method 'mean'\n",
    "    \"\"\"\n",
    "    # This will take simple mean of the weights of models\n",
    "    global_dict = global_model.state_dict()\n",
    "\n",
    "    for k in global_dict.keys():\n",
    "        global_dict[k] = torch.stack([client_models[i].state_dict(\n",
    "        )[k].float() for i in range(len(client_models))], 0).mean(0)\n",
    "\n",
    "    global_model.load_state_dict(global_dict)\n",
    "\n",
    "    for model in client_models:\n",
    "        model.load_state_dict(global_model.state_dict())\n"
   ]
  },
  {
   "cell_type": "code",
   "execution_count": 17,
   "metadata": {},
   "outputs": [],
   "source": [
    "\n",
    "def training_loop(centralizedModel, federatedModels, criterion, optimizers, train_loader, test_loader,\n",
    "                  rounds, epochs, num_clients, num_selected, device, print_every=1):\n",
    "\n",
    "    global_train_losses = []  # Average train losses between clients\n",
    "    global_valid_losses = []  # Average validation losses between clients\n",
    "\n",
    "    global_train_accuracies = []  # Average train accuracies between clients\n",
    "    global_valid_accuracies = []  # Average validation accuracies between clients\n",
    "\n",
    "    # Train model\n",
    "    for round in range(rounds):\n",
    "\n",
    "        # Select random clients\n",
    "        # Select in the total number of clients, a random array of clients of size num_selected at each round\n",
    "        client_idx = np.random.permutation(num_clients)[:num_selected]\n",
    "\n",
    "        local_train_losses = []  # Local train losses of the clients in this round\n",
    "        local_valid_losses = []  # Local validation losses of the clients in this round\n",
    "\n",
    "        local_train_accuracies = []  # Local train accuracies of the clients in this round\n",
    "        # Local validation accuracies of the clients in this round\n",
    "        local_valid_accuracies = []\n",
    "\n",
    "        for i in range(num_selected):\n",
    "            # Train federated model locally in client i for num_epochs epochs\n",
    "            local_train_loss = client_update(\n",
    "                federatedModels[i], optimizers[i], train_loader[client_idx[i]], device, criterion, epochs)\n",
    "            local_train_acc = get_accuracy(\n",
    "                federatedModels[i], train_loader[client_idx[i]], device)\n",
    "\n",
    "            local_train_losses.append(local_train_loss)\n",
    "            local_train_accuracies.append(local_train_acc)\n",
    "\n",
    "            local_valid_loss = test(\n",
    "                test_loader, federatedModels[i], criterion, device)[1]\n",
    "            local_valid_acc = get_accuracy(\n",
    "                federatedModels[i], test_loader, device)\n",
    "\n",
    "            local_valid_losses.append(local_valid_loss)\n",
    "            local_valid_accuracies.append(local_valid_acc)\n",
    "\n",
    "        server_aggregate(centralizedModel, federatedModels)\n",
    "\n",
    "        # Calculate avg training loss over all selected users at each round\n",
    "        local_train_loss_avg = sum(\n",
    "            local_train_losses) / len(local_train_losses)\n",
    "        global_train_losses.append(local_train_loss_avg)\n",
    "\n",
    "        # Calculate avg training accuracy over all selected users at each round\n",
    "        local_train_acc_avg = sum(\n",
    "            local_train_accuracies) / len(local_train_accuracies)\n",
    "        global_train_accuracies.append(local_train_acc_avg)\n",
    "\n",
    "        # Calculate avg valid loss over all selected users at each round\n",
    "        local_valid_loss_avg = sum(\n",
    "            local_valid_losses) / len(local_valid_losses)\n",
    "        global_valid_losses.append(local_valid_loss_avg)\n",
    "\n",
    "        # Calculate avg valid accuracy over all selected users at each round\n",
    "        local_valid_acc_avg = sum(\n",
    "            local_valid_accuracies) / len(local_valid_accuracies)\n",
    "        global_valid_accuracies.append(local_valid_acc_avg)\n",
    "\n",
    "        print(f'Round: {round}\\t'\n",
    "              f'Train loss: {local_train_loss_avg:.4f}\\t'\n",
    "              f'Valid loss: {local_valid_loss_avg:.4f}\\t'\n",
    "              f'Train accuracy: {100 * local_train_acc_avg:.2f}\\t'\n",
    "              f'Valid accuracy: {100 * local_valid_acc_avg:.2f}')\n",
    "    return centralizedModel, federatedModels, optimizers, (global_train_losses, global_valid_losses), (global_train_accuracies, global_valid_accuracies)\n"
   ]
  },
  {
   "cell_type": "markdown",
   "metadata": {},
   "source": [
    "## Loaders and Transformations"
   ]
  },
  {
   "cell_type": "code",
   "execution_count": 18,
   "metadata": {},
   "outputs": [],
   "source": [
    "# Image augmentation\n",
    "transform_train = transforms.Compose([\n",
    "    transforms.RandomCrop(32, padding=4),\n",
    "    transforms.RandomHorizontalFlip(),\n",
    "    transforms.ToTensor(),\n",
    "    transforms.Normalize((0.4914, 0.4822, 0.4465), (0.2023, 0.1994, 0.2010)),\n",
    "])\n",
    "\n",
    "# Normalizing the test images\n",
    "transform_test = transforms.Compose([\n",
    "    transforms.ToTensor(),\n",
    "    transforms.Normalize((0.4914, 0.4822, 0.4465), (0.2023, 0.1994, 0.2010)),\n",
    "])\n",
    "\n",
    "\n",
    "# Loading CIFAR10 using torchvision.datasets\n",
    "traindata = datasets.CIFAR10('./data', train=True, download=False,\n",
    "                             transform=transform_train)\n",
    "\n",
    "\n",
    "# Dividing the training data into num_clients, with each client having equal number of images\n",
    "traindata_split = torch.utils.data.random_split(traindata, [int(traindata.data.shape[0]\n",
    "                                                                / NUM_CLIENTS) for _ in range(NUM_CLIENTS)])\n",
    "\n",
    "# Creating a pytorch loader for a Deep Learning model\n",
    "train_loader = [torch.utils.data.DataLoader(\n",
    "    x, batch_size=BATCH_SIZE, shuffle=True) for x in traindata_split]\n",
    "\n",
    "\n",
    "# Loading the test iamges and thus converting them into a test_loader\n",
    "test_loader = torch.utils.data.DataLoader(datasets.CIFAR10('./data', train=False,\n",
    "                                                           transform=transforms.Compose([transforms.ToTensor(),\n",
    "                                                                                         transforms.Normalize((0.4914, 0.4822, 0.4465), (0.2023, 0.1994, 0.2010))])\n",
    "                                                           ), batch_size=BATCH_SIZE, shuffle=True)\n"
   ]
  },
  {
   "cell_type": "markdown",
   "metadata": {},
   "source": [
    "## Model Selection"
   ]
  },
  {
   "cell_type": "code",
   "execution_count": 19,
   "metadata": {},
   "outputs": [],
   "source": [
    "model = LeNet().to(DEVICE)\n",
    "centralizedModel = model\n",
    "\n",
    "# list of models, model per device SELECTED ( same model for each device in our case)\n",
    "federatedModels = [model for _ in range(NUM_SELECTED)]\n",
    "\n",
    "for models in federatedModels:\n",
    "    # we initialize every model with the central\n",
    "    models.load_state_dict(centralizedModel.state_dict())\n",
    "\n",
    "\n",
    "optimizers = [torch.optim.SGD(model.parameters(), lr=LEARNING_RATE)\n",
    "              for model in federatedModels]\n",
    "criterion = nn.CrossEntropyLoss()\n"
   ]
  },
  {
   "cell_type": "markdown",
   "metadata": {},
   "source": [
    "## Train"
   ]
  },
  {
   "cell_type": "code",
   "execution_count": 20,
   "metadata": {},
   "outputs": [
    {
     "name": "stdout",
     "output_type": "stream",
     "text": [
      "Round: 0\tTrain loss: 1.9328\tValid loss: 1.9281\tTrain accuracy: 28.34\tValid accuracy: 30.27\n",
      "Round: 1\tTrain loss: 1.5703\tValid loss: 1.5537\tTrain accuracy: 40.73\tValid accuracy: 42.83\n",
      "Round: 2\tTrain loss: 1.4096\tValid loss: 1.4391\tTrain accuracy: 46.11\tValid accuracy: 48.20\n",
      "Round: 3\tTrain loss: 1.2745\tValid loss: 1.3340\tTrain accuracy: 50.86\tValid accuracy: 52.02\n",
      "Round: 4\tTrain loss: 1.1662\tValid loss: 1.1746\tTrain accuracy: 57.43\tValid accuracy: 58.26\n",
      "Round: 5\tTrain loss: 1.0831\tValid loss: 1.2579\tTrain accuracy: 55.79\tValid accuracy: 56.49\n",
      "Round: 6\tTrain loss: 1.0235\tValid loss: 1.0843\tTrain accuracy: 61.41\tValid accuracy: 61.90\n",
      "Round: 7\tTrain loss: 0.9734\tValid loss: 1.0507\tTrain accuracy: 63.93\tValid accuracy: 62.99\n",
      "Round: 8\tTrain loss: 0.9415\tValid loss: 1.0120\tTrain accuracy: 63.51\tValid accuracy: 64.30\n",
      "Round: 9\tTrain loss: 0.8689\tValid loss: 0.9596\tTrain accuracy: 66.32\tValid accuracy: 66.12\n"
     ]
    }
   ],
   "source": [
    "centralizedModel, federatedModels, optimizers, (train_losses, valid_losses), (train_accuracies, valid_accuracies) = training_loop(\n",
    "    centralizedModel, federatedModels, criterion, optimizers, train_loader, test_loader, ROUNDS, LOCAL_EPOCHS, NUM_CLIENTS, NUM_SELECTED, DEVICE)\n"
   ]
  },
  {
   "cell_type": "markdown",
   "metadata": {},
   "source": [
    "## Plot Accuracy and Loss"
   ]
  },
  {
   "cell_type": "code",
   "execution_count": 23,
   "metadata": {},
   "outputs": [
    {
     "data": {
      "image/png": "[encoded data removed]",
      "text/plain": [
       "<Figure size 432x288 with 1 Axes>"
      ]
     },
     "metadata": {
      "needs_background": "light"
     },
     "output_type": "display_data"
    },
    {
     "data": {
      "image/png": "[encoded data removed]",
      "text/plain": [
       "<Figure size 432x288 with 1 Axes>"
      ]
     },
     "metadata": {
      "needs_background": "light"
     },
     "output_type": "display_data"
    }
   ],
   "source": [
    "if SAVE_PLOTS:\n",
    "    matplotlib.use(\"Agg\")\n",
    "\n",
    "# Plot Loss\n",
    "plt.figure()\n",
    "plt.title(\"Training and Validation Loss\")\n",
    "plt.plot(range(len(train_losses)), train_losses, color=\"r\", label=\"Training\")\n",
    "plt.plot(range(len(valid_losses)), valid_losses, color=\"b\", label=\"Validation\")\n",
    "plt.legend(loc=\"best\")\n",
    "plt.ylabel(\"Loss\")\n",
    "plt.xlabel(\"Epochs\")\n",
    "if SAVE_PLOTS:\n",
    "    plt.savefig(\"plots/federated_LR[{}]_R[{}]_K[{}]_C[{}]_E[{}]_loss.png\".format(\n",
    "        LEARNING_RATE, ROUNDS, NUM_CLIENTS, C, LOCAL_EPOCHS))\n",
    "else:\n",
    "    plt.show()\n",
    "\n",
    "# Plot Accuracy\n",
    "plt.figure()\n",
    "plt.title(\"Training and Validation Accuracy\")\n",
    "plt.plot(range(len(train_accuracies)),\n",
    "         train_accuracies, color=\"r\", label=\"Training\")\n",
    "plt.plot(range(len(valid_accuracies)), valid_accuracies,\n",
    "         color=\"b\", label=\"Validation\")\n",
    "plt.legend(loc=\"best\")\n",
    "plt.ylabel(\"Accuracy\")\n",
    "plt.xlabel(\"Epochs\")\n",
    "if SAVE_PLOTS:\n",
    "    plt.savefig(\"plots/federated_LR[{}]_R[{}]_K[{}]_C[{}]_E[{}]_accuracy.png\".format(\n",
    "        LEARNING_RATE, ROUNDS, NUM_CLIENTS, C, LOCAL_EPOCHS))\n",
    "else:\n",
    "    plt.show()\n"
   ]
  }
 ],
 "metadata": {
  "interpreter": {
   "hash": "4a605e0aa9ba0153468378976782e6a438b220bce716ba7043b32bc2b74e9bc8"
  },
  "kernelspec": {
   "display_name": "Python 3.9.4 64-bit ('venv': venv)",
   "language": "python",
   "name": "python3"
  },
  "language_info": {
   "codemirror_mode": {
    "name": "ipython",
    "version": 3
   },
   "file_extension": ".py",
   "mimetype": "text/x-python",
   "name": "python",
   "nbconvert_exporter": "python",
   "pygments_lexer": "ipython3",
   "version": "3.9.9"
  },
  "orig_nbformat": 4
 },
 "nbformat": 4,
 "nbformat_minor": 2
}
