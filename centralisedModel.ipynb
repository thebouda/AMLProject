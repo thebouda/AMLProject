{
  "cells": [
    {
      "cell_type": "markdown",
      "metadata": {},
      "source": [
        "## Import libraries"
      ]
    },
    {
      "cell_type": "code",
      "execution_count": 22,
      "metadata": {
        "id": "pOIPm-AJwPJ6"
      },
      "outputs": [],
      "source": [
        "import torch\n",
        "import torch.nn as nn\n",
        "from torchvision import datasets, transforms\n",
        "from lenet5 import LeNet\n",
        "import matplotlib\n",
        "import matplotlib.pyplot as plt"
      ]
    },
    {
      "cell_type": "markdown",
      "metadata": {},
      "source": [
        "## Set Parameters "
      ]
    },
    {
      "cell_type": "code",
      "execution_count": 23,
      "metadata": {},
      "outputs": [],
      "source": [
        "# Check if cuda is available\n",
        "DEVICE = 'cuda' if torch.cuda.is_available() else 'cpu'\n",
        "\n",
        "# Model Training Parameters\n",
        "EPOCHS = 100\n",
        "LEARNING_RATE = 2e-3\n",
        "BATCH_SIZE = 32\n",
        "\n",
        "# Save plots in the folder ./plots or show them\n",
        "SAVE_PLOTS = False\n",
        "\n",
        "\n",
        "# Use batch normalization or not\n",
        "BATCH_NORM = True \n",
        "# group normalization\n",
        "GROUP_NORM = False \n",
        "\n",
        "# group normalization parameters\n",
        "groupNormParams= {\n",
        "'groupNL1' : 2,\n",
        "'groupNL2' :2\n",
        "}\n",
        "\n",
        "\n",
        "if GROUP_NORM ==True & BATCH_NORM ==True:\n",
        "    print(\" Cannot have group an batch normalization True at the same time\")\n",
        "    exit()\n"
      ]
    },
    {
      "cell_type": "markdown",
      "metadata": {},
      "source": [
        "## Training and Validation functions"
      ]
    },
    {
      "cell_type": "code",
      "execution_count": 24,
      "metadata": {
        "id": "SyrXscPNxhol"
      },
      "outputs": [],
      "source": [
        "def train(train_loader, model, criterion, optimizer, device):\n",
        "    model.train()\n",
        "    running_loss = 0\n",
        "    for X, y_target in train_loader:\n",
        "\n",
        "        # Set gradient to zero\n",
        "        optimizer.zero_grad()\n",
        "\n",
        "        # If there is a GPU, pass the data to the GPU\n",
        "\n",
        "        X = X.to(device)\n",
        "        y_target = y_target.to(device)\n",
        "\n",
        "        # Prediction\n",
        "\n",
        "        # Call model forward()\n",
        "        y_predict, _ = model(X)\n",
        "\n",
        "        # Get loss\n",
        "        loss = criterion(y_predict, y_target)\n",
        "        running_loss += loss.item() * X.size(0)\n",
        "\n",
        "        # Adjusting weights\n",
        "        loss.backward()\n",
        "        optimizer.step()\n",
        "\n",
        "    epoch_loss = running_loss / len(train_loader.dataset)\n",
        "    return model, optimizer, epoch_loss\n",
        "\n",
        "\n",
        "def test(valid_loader, model, criterion, device):\n",
        "    model.eval()\n",
        "    running_loss = 0\n",
        "\n",
        "    for X, y_target in valid_loader:\n",
        "        # If there is a GPU\n",
        "\n",
        "        X = X.to(device)\n",
        "        y_target = y_target.to(device)\n",
        "\n",
        "        # Prediction and loss\n",
        "\n",
        "        # Call model forward()\n",
        "        y_predict, _ = model(X)\n",
        "        \n",
        "        # Get loss\n",
        "        loss = criterion(y_predict, y_target)\n",
        "        running_loss += loss.item() * X.size(0)\n",
        "\n",
        "    epoch_loss = running_loss / len(valid_loader.dataset)\n",
        "    return model, epoch_loss\n",
        "\n",
        "\n",
        "def get_accuracy(model, data_loader, device):\n",
        "    '''\n",
        "    Function for computing the accuracy of the predictions over the entire data_loader\n",
        "    '''\n",
        "\n",
        "    correct_pred = 0\n",
        "    n = 0\n",
        "\n",
        "    with torch.no_grad():\n",
        "        model.eval()\n",
        "        for X, y_true in data_loader:\n",
        "\n",
        "            X = X.to(device)\n",
        "            y_true = y_true.to(device)\n",
        "\n",
        "            _, y_prob = model(X)\n",
        "            _, predicted_labels = torch.max(y_prob, 1)\n",
        "\n",
        "            n += y_true.size(0)\n",
        "            correct_pred += (predicted_labels == y_true).sum()\n",
        "\n",
        "    return correct_pred.float() / n\n"
      ]
    },
    {
      "cell_type": "code",
      "execution_count": 25,
      "metadata": {},
      "outputs": [],
      "source": [
        "def training_loop(model, criterion, optimizer, train_loader, test_loader,\n",
        "                  epochs, device, print_every=1):\n",
        "\n",
        "    train_losses = []\n",
        "    valid_losses = []\n",
        "\n",
        "    train_accuracies = []\n",
        "    valid_accuracies = []\n",
        "\n",
        "    # Train model\n",
        "    for epoch in range(epochs):\n",
        "        model, optimizer, train_loss = train(train_loader, model,\n",
        "                                             criterion, optimizer, device)\n",
        "        train_losses.append(train_loss)\n",
        "\n",
        "        # Validation\n",
        "\n",
        "        # Disable gradient calculation to save memory\n",
        "        with torch.no_grad():\n",
        "            model, valid_loss = test(test_loader, model, criterion, device)\n",
        "            valid_losses.append(valid_loss)\n",
        "\n",
        "        if epoch % print_every == (print_every - 1):\n",
        "            train_acc = get_accuracy(model, train_loader, device)\n",
        "            valid_acc = get_accuracy(model, test_loader, device)\n",
        "\n",
        "            train_accuracies.append(train_acc)\n",
        "            valid_accuracies.append(valid_acc)\n",
        "\n",
        "            print(f'Epoch: {epoch}\\t'\n",
        "                  f'Train loss: {train_loss:.4f}\\t'\n",
        "                  f'Valid loss: {valid_loss:.4f}\\t'\n",
        "                  f'Train accuracy: {100 * train_acc:.2f}\\t'\n",
        "                  f'Valid accuracy: {100 * valid_acc:.2f}')\n",
        "\n",
        "    return model, optimizer, (train_losses, valid_losses), (train_accuracies, valid_accuracies)\n"
      ]
    },
    {
      "cell_type": "markdown",
      "metadata": {},
      "source": [
        "## Loaders and Transformations"
      ]
    },
    {
      "cell_type": "code",
      "execution_count": 26,
      "metadata": {
        "id": "fFZ49UhVxna4"
      },
      "outputs": [],
      "source": [
        "# Image augmentation\n",
        "transform_train = transforms.Compose([\n",
        "    transforms.RandomCrop(32, padding=4),\n",
        "    transforms.RandomHorizontalFlip(),\n",
        "    transforms.ToTensor(),\n",
        "    transforms.Normalize((0.4914, 0.4822, 0.4465), (0.2023, 0.1994, 0.2010)),\n",
        "])\n",
        "\n",
        "# Normalizing the test images\n",
        "transform_test = transforms.Compose([\n",
        "    transforms.ToTensor(),\n",
        "    transforms.Normalize((0.4914, 0.4822, 0.4465), (0.2023, 0.1994, 0.2010)),\n",
        "])\n",
        "\n",
        "# Loading CIFAR10 using torchvision.datasets\n",
        "traindata = datasets.CIFAR10('./data', train=True, download=False,\n",
        "                             transform=transform_train)\n",
        "\n",
        "# Creating a pytorch loader for a Deep Learning model\n",
        "train_loader = torch.utils.data.DataLoader(\n",
        "    traindata, batch_size=BATCH_SIZE, shuffle=True)\n",
        "\n",
        "# Loading the test images and thus converting them into a test_loader\n",
        "test_loader = torch.utils.data.DataLoader(datasets.CIFAR10('./data', train=False,\n",
        "                                                           transform=transforms.Compose([transforms.ToTensor(),\n",
        "                                                                                         transforms.Normalize((0.4914, 0.4822, 0.4465), (0.2023, 0.1994, 0.2010))])\n",
        "                                                           ), batch_size=BATCH_SIZE, shuffle=True)\n"
      ]
    },
    {
      "cell_type": "markdown",
      "metadata": {},
      "source": [
        "## Model Selection"
      ]
    },
    {
      "cell_type": "code",
      "execution_count": 27,
      "metadata": {
        "colab": {
          "base_uri": "https://localhost:8080/"
        },
        "id": "--l17eNixqMf",
        "outputId": "3e366c82-bd9a-4ece-dda5-e0e9b0b72f62"
      },
      "outputs": [],
      "source": [
        "model = LeNet(BATCH_NORM,GROUP_NORM,groupNormParams).to(DEVICE)\n",
        "\n",
        "optimizer = torch.optim.SGD(model.parameters(), lr=LEARNING_RATE)\n",
        "criterion = nn.CrossEntropyLoss()\n"
      ]
    },
    {
      "cell_type": "markdown",
      "metadata": {},
      "source": [
        "## Train"
      ]
    },
    {
      "cell_type": "code",
      "execution_count": 28,
      "metadata": {},
      "outputs": [
        {
          "name": "stdout",
          "output_type": "stream",
          "text": [
            "Epoch: 0\tTrain loss: 2.2403\tValid loss: 2.0695\tTrain accuracy: 24.95\tValid accuracy: 26.66\n",
            "Epoch: 1\tTrain loss: 1.9694\tValid loss: 1.8241\tTrain accuracy: 31.79\tValid accuracy: 34.16\n",
            "Epoch: 2\tTrain loss: 1.7975\tValid loss: 1.6578\tTrain accuracy: 37.02\tValid accuracy: 39.98\n",
            "Epoch: 3\tTrain loss: 1.6743\tValid loss: 1.5534\tTrain accuracy: 39.90\tValid accuracy: 43.57\n",
            "Epoch: 4\tTrain loss: 1.5984\tValid loss: 1.5235\tTrain accuracy: 41.00\tValid accuracy: 43.14\n",
            "Epoch: 5\tTrain loss: 1.5425\tValid loss: 1.4488\tTrain accuracy: 44.31\tValid accuracy: 46.64\n",
            "Epoch: 6\tTrain loss: 1.4985\tValid loss: 1.4149\tTrain accuracy: 45.39\tValid accuracy: 48.44\n",
            "Epoch: 7\tTrain loss: 1.4555\tValid loss: 1.3407\tTrain accuracy: 48.24\tValid accuracy: 51.87\n",
            "Epoch: 8\tTrain loss: 1.4112\tValid loss: 1.3026\tTrain accuracy: 49.34\tValid accuracy: 53.24\n",
            "Epoch: 9\tTrain loss: 1.3692\tValid loss: 1.2594\tTrain accuracy: 51.82\tValid accuracy: 55.09\n",
            "Epoch: 10\tTrain loss: 1.3311\tValid loss: 1.2367\tTrain accuracy: 52.08\tValid accuracy: 55.67\n",
            "Epoch: 11\tTrain loss: 1.2990\tValid loss: 1.1800\tTrain accuracy: 54.63\tValid accuracy: 57.07\n",
            "Epoch: 12\tTrain loss: 1.2655\tValid loss: 1.1816\tTrain accuracy: 54.41\tValid accuracy: 58.19\n",
            "Epoch: 13\tTrain loss: 1.2289\tValid loss: 1.1467\tTrain accuracy: 56.36\tValid accuracy: 58.51\n",
            "Epoch: 14\tTrain loss: 1.1967\tValid loss: 1.1363\tTrain accuracy: 57.08\tValid accuracy: 59.24\n",
            "Epoch: 15\tTrain loss: 1.1770\tValid loss: 1.0763\tTrain accuracy: 58.57\tValid accuracy: 62.27\n",
            "Epoch: 16\tTrain loss: 1.1475\tValid loss: 1.0354\tTrain accuracy: 60.17\tValid accuracy: 63.75\n",
            "Epoch: 17\tTrain loss: 1.1258\tValid loss: 1.1032\tTrain accuracy: 58.35\tValid accuracy: 60.19\n",
            "Epoch: 18\tTrain loss: 1.1037\tValid loss: 0.9955\tTrain accuracy: 61.92\tValid accuracy: 65.50\n",
            "Epoch: 19\tTrain loss: 1.0848\tValid loss: 1.0062\tTrain accuracy: 61.68\tValid accuracy: 64.32\n",
            "Epoch: 20\tTrain loss: 1.0688\tValid loss: 0.9997\tTrain accuracy: 61.61\tValid accuracy: 64.60\n",
            "Epoch: 21\tTrain loss: 1.0492\tValid loss: 0.9545\tTrain accuracy: 63.70\tValid accuracy: 66.75\n",
            "Epoch: 22\tTrain loss: 1.0379\tValid loss: 0.9596\tTrain accuracy: 63.86\tValid accuracy: 66.31\n",
            "Epoch: 23\tTrain loss: 1.0178\tValid loss: 0.9356\tTrain accuracy: 64.67\tValid accuracy: 66.73\n",
            "Epoch: 24\tTrain loss: 0.9991\tValid loss: 0.9195\tTrain accuracy: 65.02\tValid accuracy: 68.69\n",
            "Epoch: 25\tTrain loss: 0.9901\tValid loss: 0.9268\tTrain accuracy: 65.12\tValid accuracy: 67.94\n",
            "Epoch: 26\tTrain loss: 0.9703\tValid loss: 0.8961\tTrain accuracy: 66.54\tValid accuracy: 68.88\n",
            "Epoch: 27\tTrain loss: 0.9573\tValid loss: 0.8882\tTrain accuracy: 66.57\tValid accuracy: 69.34\n",
            "Epoch: 28\tTrain loss: 0.9458\tValid loss: 0.8810\tTrain accuracy: 66.65\tValid accuracy: 70.11\n",
            "Epoch: 29\tTrain loss: 0.9334\tValid loss: 0.8700\tTrain accuracy: 68.47\tValid accuracy: 69.99\n",
            "Epoch: 30\tTrain loss: 0.9228\tValid loss: 0.8318\tTrain accuracy: 68.85\tValid accuracy: 71.28\n",
            "Epoch: 31\tTrain loss: 0.9066\tValid loss: 0.8399\tTrain accuracy: 67.85\tValid accuracy: 71.27\n",
            "Epoch: 32\tTrain loss: 0.8927\tValid loss: 0.8220\tTrain accuracy: 69.55\tValid accuracy: 71.37\n",
            "Epoch: 33\tTrain loss: 0.8880\tValid loss: 0.8399\tTrain accuracy: 67.93\tValid accuracy: 70.80\n",
            "Epoch: 34\tTrain loss: 0.8703\tValid loss: 0.8353\tTrain accuracy: 69.55\tValid accuracy: 70.84\n",
            "Epoch: 35\tTrain loss: 0.8593\tValid loss: 0.8221\tTrain accuracy: 69.74\tValid accuracy: 71.46\n",
            "Epoch: 36\tTrain loss: 0.8542\tValid loss: 0.7954\tTrain accuracy: 70.40\tValid accuracy: 72.40\n",
            "Epoch: 37\tTrain loss: 0.8345\tValid loss: 0.8142\tTrain accuracy: 69.58\tValid accuracy: 71.27\n",
            "Epoch: 38\tTrain loss: 0.8269\tValid loss: 0.8068\tTrain accuracy: 70.32\tValid accuracy: 71.79\n",
            "Epoch: 39\tTrain loss: 0.8212\tValid loss: 0.7628\tTrain accuracy: 71.52\tValid accuracy: 73.51\n",
            "Epoch: 40\tTrain loss: 0.8072\tValid loss: 0.7616\tTrain accuracy: 71.82\tValid accuracy: 73.79\n",
            "Epoch: 41\tTrain loss: 0.8007\tValid loss: 0.7942\tTrain accuracy: 70.05\tValid accuracy: 72.30\n",
            "Epoch: 42\tTrain loss: 0.7939\tValid loss: 0.7371\tTrain accuracy: 72.86\tValid accuracy: 74.41\n",
            "Epoch: 43\tTrain loss: 0.7810\tValid loss: 0.7325\tTrain accuracy: 73.53\tValid accuracy: 74.43\n",
            "Epoch: 44\tTrain loss: 0.7713\tValid loss: 0.7600\tTrain accuracy: 72.39\tValid accuracy: 73.28\n",
            "Epoch: 45\tTrain loss: 0.7665\tValid loss: 0.7485\tTrain accuracy: 72.92\tValid accuracy: 74.06\n",
            "Epoch: 46\tTrain loss: 0.7571\tValid loss: 0.7267\tTrain accuracy: 74.02\tValid accuracy: 74.68\n",
            "Epoch: 47\tTrain loss: 0.7504\tValid loss: 0.7192\tTrain accuracy: 73.94\tValid accuracy: 75.21\n",
            "Epoch: 48\tTrain loss: 0.7415\tValid loss: 0.7226\tTrain accuracy: 73.93\tValid accuracy: 74.93\n",
            "Epoch: 49\tTrain loss: 0.7358\tValid loss: 0.7112\tTrain accuracy: 74.36\tValid accuracy: 75.53\n",
            "Epoch: 50\tTrain loss: 0.7262\tValid loss: 0.7767\tTrain accuracy: 71.62\tValid accuracy: 73.50\n",
            "Epoch: 51\tTrain loss: 0.7243\tValid loss: 0.7005\tTrain accuracy: 75.07\tValid accuracy: 75.39\n",
            "Epoch: 52\tTrain loss: 0.7151\tValid loss: 0.6908\tTrain accuracy: 75.69\tValid accuracy: 75.99\n",
            "Epoch: 53\tTrain loss: 0.7025\tValid loss: 0.7124\tTrain accuracy: 74.11\tValid accuracy: 74.82\n",
            "Epoch: 54\tTrain loss: 0.7025\tValid loss: 0.6882\tTrain accuracy: 75.22\tValid accuracy: 76.48\n",
            "Epoch: 55\tTrain loss: 0.6957\tValid loss: 0.6742\tTrain accuracy: 76.01\tValid accuracy: 76.49\n",
            "Epoch: 56\tTrain loss: 0.6880\tValid loss: 0.6991\tTrain accuracy: 74.84\tValid accuracy: 76.05\n",
            "Epoch: 57\tTrain loss: 0.6840\tValid loss: 0.6968\tTrain accuracy: 75.68\tValid accuracy: 76.17\n",
            "Epoch: 58\tTrain loss: 0.6759\tValid loss: 0.6684\tTrain accuracy: 76.57\tValid accuracy: 77.01\n",
            "Epoch: 59\tTrain loss: 0.6711\tValid loss: 0.6583\tTrain accuracy: 76.88\tValid accuracy: 76.85\n",
            "Epoch: 60\tTrain loss: 0.6622\tValid loss: 0.6684\tTrain accuracy: 76.46\tValid accuracy: 76.58\n",
            "Epoch: 61\tTrain loss: 0.6601\tValid loss: 0.6667\tTrain accuracy: 76.09\tValid accuracy: 76.67\n",
            "Epoch: 62\tTrain loss: 0.6541\tValid loss: 0.6551\tTrain accuracy: 77.15\tValid accuracy: 77.11\n",
            "Epoch: 63\tTrain loss: 0.6494\tValid loss: 0.6486\tTrain accuracy: 77.03\tValid accuracy: 77.83\n",
            "Epoch: 64\tTrain loss: 0.6471\tValid loss: 0.6580\tTrain accuracy: 77.35\tValid accuracy: 77.12\n",
            "Epoch: 65\tTrain loss: 0.6406\tValid loss: 0.6485\tTrain accuracy: 77.39\tValid accuracy: 77.19\n",
            "Epoch: 66\tTrain loss: 0.6346\tValid loss: 0.6429\tTrain accuracy: 77.57\tValid accuracy: 77.42\n",
            "Epoch: 67\tTrain loss: 0.6284\tValid loss: 0.6325\tTrain accuracy: 78.03\tValid accuracy: 77.96\n",
            "Epoch: 68\tTrain loss: 0.6257\tValid loss: 0.6291\tTrain accuracy: 78.33\tValid accuracy: 78.17\n",
            "Epoch: 69\tTrain loss: 0.6162\tValid loss: 0.6372\tTrain accuracy: 77.87\tValid accuracy: 78.04\n",
            "Epoch: 70\tTrain loss: 0.6154\tValid loss: 0.6166\tTrain accuracy: 79.03\tValid accuracy: 78.77\n",
            "Epoch: 71\tTrain loss: 0.6146\tValid loss: 0.6657\tTrain accuracy: 77.45\tValid accuracy: 76.94\n",
            "Epoch: 72\tTrain loss: 0.6107\tValid loss: 0.6250\tTrain accuracy: 78.64\tValid accuracy: 78.29\n",
            "Epoch: 73\tTrain loss: 0.6032\tValid loss: 0.6157\tTrain accuracy: 78.99\tValid accuracy: 78.39\n",
            "Epoch: 74\tTrain loss: 0.5965\tValid loss: 0.6160\tTrain accuracy: 79.44\tValid accuracy: 78.54\n",
            "Epoch: 75\tTrain loss: 0.5968\tValid loss: 0.5985\tTrain accuracy: 79.84\tValid accuracy: 79.19\n",
            "Epoch: 76\tTrain loss: 0.5879\tValid loss: 0.6070\tTrain accuracy: 80.04\tValid accuracy: 78.90\n",
            "Epoch: 77\tTrain loss: 0.5857\tValid loss: 0.6089\tTrain accuracy: 79.78\tValid accuracy: 78.82\n",
            "Epoch: 78\tTrain loss: 0.5818\tValid loss: 0.6462\tTrain accuracy: 78.14\tValid accuracy: 77.74\n",
            "Epoch: 79\tTrain loss: 0.5835\tValid loss: 0.6220\tTrain accuracy: 79.45\tValid accuracy: 78.64\n",
            "Epoch: 80\tTrain loss: 0.5722\tValid loss: 0.6026\tTrain accuracy: 80.09\tValid accuracy: 79.37\n",
            "Epoch: 81\tTrain loss: 0.5702\tValid loss: 0.5896\tTrain accuracy: 80.56\tValid accuracy: 79.42\n",
            "Epoch: 82\tTrain loss: 0.5661\tValid loss: 0.5956\tTrain accuracy: 79.81\tValid accuracy: 79.32\n",
            "Epoch: 83\tTrain loss: 0.5605\tValid loss: 0.6150\tTrain accuracy: 79.72\tValid accuracy: 78.49\n",
            "Epoch: 84\tTrain loss: 0.5583\tValid loss: 0.6169\tTrain accuracy: 79.38\tValid accuracy: 78.48\n",
            "Epoch: 85\tTrain loss: 0.5573\tValid loss: 0.5981\tTrain accuracy: 80.37\tValid accuracy: 78.99\n",
            "Epoch: 86\tTrain loss: 0.5531\tValid loss: 0.5849\tTrain accuracy: 80.86\tValid accuracy: 79.51\n",
            "Epoch: 87\tTrain loss: 0.5544\tValid loss: 0.5974\tTrain accuracy: 80.29\tValid accuracy: 79.12\n",
            "Epoch: 88\tTrain loss: 0.5446\tValid loss: 0.5739\tTrain accuracy: 81.49\tValid accuracy: 79.99\n",
            "Epoch: 89\tTrain loss: 0.5417\tValid loss: 0.6249\tTrain accuracy: 79.61\tValid accuracy: 77.97\n",
            "Epoch: 90\tTrain loss: 0.5388\tValid loss: 0.5883\tTrain accuracy: 81.09\tValid accuracy: 79.66\n",
            "Epoch: 91\tTrain loss: 0.5380\tValid loss: 0.5766\tTrain accuracy: 81.29\tValid accuracy: 79.86\n",
            "Epoch: 92\tTrain loss: 0.5314\tValid loss: 0.6431\tTrain accuracy: 80.01\tValid accuracy: 77.70\n",
            "Epoch: 93\tTrain loss: 0.5300\tValid loss: 0.5791\tTrain accuracy: 81.73\tValid accuracy: 80.18\n",
            "Epoch: 94\tTrain loss: 0.5249\tValid loss: 0.6188\tTrain accuracy: 80.10\tValid accuracy: 78.42\n",
            "Epoch: 95\tTrain loss: 0.5225\tValid loss: 0.5823\tTrain accuracy: 81.58\tValid accuracy: 79.53\n",
            "Epoch: 96\tTrain loss: 0.5171\tValid loss: 0.6036\tTrain accuracy: 81.39\tValid accuracy: 79.27\n",
            "Epoch: 97\tTrain loss: 0.5151\tValid loss: 0.5779\tTrain accuracy: 81.59\tValid accuracy: 79.86\n",
            "Epoch: 98\tTrain loss: 0.5159\tValid loss: 0.5612\tTrain accuracy: 82.62\tValid accuracy: 80.44\n",
            "Epoch: 99\tTrain loss: 0.5138\tValid loss: 0.5847\tTrain accuracy: 81.61\tValid accuracy: 79.73\n"
          ]
        }
      ],
      "source": [
        "model, optimizer, (train_losses, valid_losses), (train_accuracies, valid_accuracies) = training_loop(model, criterion, optimizer,\n",
        "                                                                                                     train_loader, test_loader, EPOCHS, DEVICE)\n"
      ]
    },
    {
      "cell_type": "markdown",
      "metadata": {},
      "source": [
        "## Plot Accuracy and Loss"
      ]
    },
    {
      "cell_type": "code",
      "execution_count": 32,
      "metadata": {
        "id": "Nso-asIhS90N"
      },
      "outputs": [
        {
          "data": {
            "image/png": "[encoded data removed]",
            "text/plain": [
              "<Figure size 432x288 with 1 Axes>"
            ]
          },
          "metadata": {
            "needs_background": "light"
          },
          "output_type": "display_data"
        },
        {
          "data": {
            "image/png": "[encoded data removed]",
            "text/plain": [
              "<Figure size 432x288 with 1 Axes>"
            ]
          },
          "metadata": {
            "needs_background": "light"
          },
          "output_type": "display_data"
        }
      ],
      "source": [
        "SAVE_PLOTS = True\n",
        "if SAVE_PLOTS:\n",
        "    matplotlib.use(\"Agg\")\n",
        "\n",
        "# Plot Loss\n",
        "plt.figure()\n",
        "plt.title(\"Training and Validation Loss\")\n",
        "plt.plot(range(len(train_losses)), train_losses, color=\"r\", label=\"Training\")\n",
        "plt.plot(range(len(valid_losses)), valid_losses, color=\"b\", label=\"Validation\")\n",
        "plt.legend(loc=\"best\")\n",
        "plt.ylabel(\"Loss\")\n",
        "plt.xlabel(\"Epochs\")\n",
        "if SAVE_PLOTS:\n",
        "    plt.savefig(\n",
        "        \"plots/centralised_LR[{}]_EPOCHS[{}]_BATCHNORM[{}]_GROUPNORM[{}]_loss.png\".format(LEARNING_RATE, EPOCHS, BATCH_NORM, GROUP_NORM))\n",
        "else:\n",
        "    plt.show()\n",
        "\n",
        "# Plot Accuracy\n",
        "plt.figure()\n",
        "plt.title(\"Training and Validation Accuracy\")\n",
        "plt.plot(range(len(train_accuracies)),\n",
        "         train_accuracies, color=\"r\", label=\"Training\")\n",
        "plt.plot(range(len(valid_accuracies)), valid_accuracies,\n",
        "         color=\"b\", label=\"Validation\")\n",
        "plt.legend(loc=\"best\")\n",
        "plt.ylabel(\"Accuracy\")\n",
        "plt.xlabel(\"Epochs\")\n",
        "if SAVE_PLOTS:\n",
        "    plt.savefig(\n",
        "        \"plots/centralised_LR[{}]_EPOCHS[{}]_BATCHNORM[{}]_GROUPNORM[{}]_accuracy.png\".format(LEARNING_RATE, EPOCHS, BATCH_NORM, GROUP_NORM))\n",
        "else:\n",
        "    plt.show()\n"
      ]
    }
  ],
  "metadata": {
    "accelerator": "GPU",
    "colab": {
      "authorship_tag": "ABX9TyOHbIqVnL0EicjZQKAFl3Mm",
      "collapsed_sections": [],
      "name": "centralisedModel.ipynb",
      "provenance": []
    },
    "kernelspec": {
      "display_name": "Python 3",
      "name": "python3"
    },
    "language_info": {
      "codemirror_mode": {
        "name": "ipython",
        "version": 3
      },
      "file_extension": ".py",
      "mimetype": "text/x-python",
      "name": "python",
      "nbconvert_exporter": "python",
      "pygments_lexer": "ipython3",
      "version": "3.9.9"
    }
  },
  "nbformat": 4,
  "nbformat_minor": 0
}
