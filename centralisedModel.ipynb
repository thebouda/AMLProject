{
  "cells": [
    {
      "cell_type": "markdown",
      "metadata": {},
      "source": [
        "## Import libraries"
      ]
    },
    {
      "cell_type": "code",
      "execution_count": 8,
      "metadata": {
        "id": "pOIPm-AJwPJ6"
      },
      "outputs": [],
      "source": [
        "import torch\n",
        "import torch.nn as nn\n",
        "from torchvision import datasets, transforms\n",
        "from lenet5 import LeNet\n",
        "import matplotlib\n",
        "import matplotlib.pyplot as plt"
      ]
    },
    {
      "cell_type": "markdown",
      "metadata": {},
      "source": [
        "## Set Parameters "
      ]
    },
    {
      "cell_type": "code",
      "execution_count": 9,
      "metadata": {},
      "outputs": [],
      "source": [
        "# Check if cuda is available\n",
        "DEVICE = 'cuda' if torch.cuda.is_available() else 'cpu'\n",
        "\n",
        "# Model Training Parameters\n",
        "EPOCHS = 100\n",
        "LEARNING_RATE = 2e-3\n",
        "BATCH_SIZE = 32\n",
        "\n",
        "# Save plots in the folder ./plots or show them\n",
        "SAVE_PLOTS = False\n",
        "\n",
        "\n",
        "# Use batch normalization or not\n",
        "BATCH_NORM = False \n",
        "# group normalization\n",
        "GROUP_NORM = True \n",
        "\n",
        "# group normalization parameters\n",
        "groupNormParams= {\n",
        "'groupNL1' : 2,\n",
        "'groupNL2' :4\n",
        "}\n",
        "\n",
        "\n",
        "if GROUP_NORM ==True & BATCH_NORM ==True:\n",
        "    print(\" Cannot have group an batch normalization True at the same time\")\n",
        "    exit()\n"
      ]
    },
    {
      "cell_type": "markdown",
      "metadata": {},
      "source": [
        "## Training and Validation functions"
      ]
    },
    {
      "cell_type": "code",
      "execution_count": 10,
      "metadata": {
        "id": "SyrXscPNxhol"
      },
      "outputs": [],
      "source": [
        "def train(train_loader, model, criterion, optimizer, device):\n",
        "    model.train()\n",
        "    running_loss = 0\n",
        "    for X, y_target in train_loader:\n",
        "\n",
        "        # Set gradient to zero\n",
        "        optimizer.zero_grad()\n",
        "\n",
        "        # If there is a GPU, pass the data to the GPU\n",
        "\n",
        "        X = X.to(device)\n",
        "        y_target = y_target.to(device)\n",
        "\n",
        "        # Prediction\n",
        "\n",
        "        # Call model forward()\n",
        "        y_predict, _ = model(X)\n",
        "\n",
        "        # Get loss\n",
        "        loss = criterion(y_predict, y_target)\n",
        "        running_loss += loss.item() * X.size(0)\n",
        "\n",
        "        # Adjusting weights\n",
        "        loss.backward()\n",
        "        optimizer.step()\n",
        "\n",
        "    epoch_loss = running_loss / len(train_loader.dataset)\n",
        "    return model, optimizer, epoch_loss\n",
        "\n",
        "\n",
        "def test(valid_loader, model, criterion, device):\n",
        "    model.eval()\n",
        "    running_loss = 0\n",
        "\n",
        "    for X, y_target in valid_loader:\n",
        "        # If there is a GPU\n",
        "\n",
        "        X = X.to(device)\n",
        "        y_target = y_target.to(device)\n",
        "\n",
        "        # Prediction and loss\n",
        "\n",
        "        # Call model forward()\n",
        "        y_predict, _ = model(X)\n",
        "        \n",
        "        # Get loss\n",
        "        loss = criterion(y_predict, y_target)\n",
        "        running_loss += loss.item() * X.size(0)\n",
        "\n",
        "    epoch_loss = running_loss / len(valid_loader.dataset)\n",
        "    return model, epoch_loss\n",
        "\n",
        "\n",
        "def get_accuracy(model, data_loader, device):\n",
        "    '''\n",
        "    Function for computing the accuracy of the predictions over the entire data_loader\n",
        "    '''\n",
        "\n",
        "    correct_pred = 0\n",
        "    n = 0\n",
        "\n",
        "    with torch.no_grad():\n",
        "        model.eval()\n",
        "        for X, y_true in data_loader:\n",
        "\n",
        "            X = X.to(device)\n",
        "            y_true = y_true.to(device)\n",
        "\n",
        "            _, y_prob = model(X)\n",
        "            _, predicted_labels = torch.max(y_prob, 1)\n",
        "\n",
        "            n += y_true.size(0)\n",
        "            correct_pred += (predicted_labels == y_true).sum()\n",
        "\n",
        "    return correct_pred.float() / n\n"
      ]
    },
    {
      "cell_type": "code",
      "execution_count": 11,
      "metadata": {},
      "outputs": [],
      "source": [
        "def training_loop(model, criterion, optimizer, train_loader, test_loader,\n",
        "                  epochs, device, print_every=1):\n",
        "\n",
        "    train_losses = []\n",
        "    valid_losses = []\n",
        "\n",
        "    train_accuracies = []\n",
        "    valid_accuracies = []\n",
        "\n",
        "    # Train model\n",
        "    for epoch in range(epochs):\n",
        "        model, optimizer, train_loss = train(train_loader, model,\n",
        "                                             criterion, optimizer, device)\n",
        "        train_losses.append(train_loss)\n",
        "\n",
        "        # Validation\n",
        "\n",
        "        # Disable gradient calculation to save memory\n",
        "        with torch.no_grad():\n",
        "            model, valid_loss = test(test_loader, model, criterion, device)\n",
        "            valid_losses.append(valid_loss)\n",
        "\n",
        "        if epoch % print_every == (print_every - 1):\n",
        "            train_acc = get_accuracy(model, train_loader, device)\n",
        "            valid_acc = get_accuracy(model, test_loader, device)\n",
        "\n",
        "            train_accuracies.append(train_acc)\n",
        "            valid_accuracies.append(valid_acc)\n",
        "\n",
        "            print(f'Epoch: {epoch}\\t'\n",
        "                  f'Train loss: {train_loss:.4f}\\t'\n",
        "                  f'Valid loss: {valid_loss:.4f}\\t'\n",
        "                  f'Train accuracy: {100 * train_acc:.2f}\\t'\n",
        "                  f'Valid accuracy: {100 * valid_acc:.2f}')\n",
        "\n",
        "    return model, optimizer, (train_losses, valid_losses), (train_accuracies, valid_accuracies)\n"
      ]
    },
    {
      "cell_type": "markdown",
      "metadata": {},
      "source": [
        "## Loaders and Transformations"
      ]
    },
    {
      "cell_type": "code",
      "execution_count": 12,
      "metadata": {
        "id": "fFZ49UhVxna4"
      },
      "outputs": [],
      "source": [
        "# Image augmentation\n",
        "transform_train = transforms.Compose([\n",
        "    transforms.RandomCrop(32, padding=4),\n",
        "    transforms.RandomHorizontalFlip(),\n",
        "    transforms.ToTensor(),\n",
        "    transforms.Normalize((0.4914, 0.4822, 0.4465), (0.2023, 0.1994, 0.2010)),\n",
        "])\n",
        "\n",
        "# Normalizing the test images\n",
        "transform_test = transforms.Compose([\n",
        "    transforms.ToTensor(),\n",
        "    transforms.Normalize((0.4914, 0.4822, 0.4465), (0.2023, 0.1994, 0.2010)),\n",
        "])\n",
        "\n",
        "# Loading CIFAR10 using torchvision.datasets\n",
        "traindata = datasets.CIFAR10('./data', train=True, download=False,\n",
        "                             transform=transform_train)\n",
        "\n",
        "# Creating a pytorch loader for a Deep Learning model\n",
        "train_loader = torch.utils.data.DataLoader(\n",
        "    traindata, batch_size=BATCH_SIZE, shuffle=True)\n",
        "\n",
        "# Loading the test images and thus converting them into a test_loader\n",
        "test_loader = torch.utils.data.DataLoader(datasets.CIFAR10('./data', train=False,\n",
        "                                                           transform=transforms.Compose([transforms.ToTensor(),\n",
        "                                                                                         transforms.Normalize((0.4914, 0.4822, 0.4465), (0.2023, 0.1994, 0.2010))])\n",
        "                                                           ), batch_size=BATCH_SIZE, shuffle=True)\n"
      ]
    },
    {
      "cell_type": "markdown",
      "metadata": {},
      "source": [
        "## Model Selection"
      ]
    },
    {
      "cell_type": "code",
      "execution_count": 13,
      "metadata": {
        "colab": {
          "base_uri": "https://localhost:8080/"
        },
        "id": "--l17eNixqMf",
        "outputId": "3e366c82-bd9a-4ece-dda5-e0e9b0b72f62"
      },
      "outputs": [],
      "source": [
        "model = LeNet(BATCH_NORM,GROUP_NORM,groupNormParams).to(DEVICE)\n",
        "\n",
        "optimizer = torch.optim.SGD(model.parameters(), lr=LEARNING_RATE)\n",
        "criterion = nn.CrossEntropyLoss()\n"
      ]
    },
    {
      "cell_type": "markdown",
      "metadata": {},
      "source": [
        "## Train"
      ]
    },
    {
      "cell_type": "code",
      "execution_count": 14,
      "metadata": {},
      "outputs": [
        {
          "name": "stdout",
          "output_type": "stream",
          "text": [
            "Epoch: 0\tTrain loss: 2.0411\tValid loss: 1.7330\tTrain accuracy: 35.00\tValid accuracy: 37.03\n",
            "Epoch: 1\tTrain loss: 1.6584\tValid loss: 1.5252\tTrain accuracy: 41.74\tValid accuracy: 45.23\n",
            "Epoch: 2\tTrain loss: 1.4907\tValid loss: 1.3659\tTrain accuracy: 46.02\tValid accuracy: 49.94\n",
            "Epoch: 3\tTrain loss: 1.3826\tValid loss: 1.2238\tTrain accuracy: 52.04\tValid accuracy: 55.51\n",
            "Epoch: 4\tTrain loss: 1.2963\tValid loss: 1.1775\tTrain accuracy: 54.67\tValid accuracy: 58.22\n",
            "Epoch: 5\tTrain loss: 1.2351\tValid loss: 1.1384\tTrain accuracy: 56.34\tValid accuracy: 59.29\n",
            "Epoch: 6\tTrain loss: 1.1814\tValid loss: 1.0944\tTrain accuracy: 57.82\tValid accuracy: 61.11\n",
            "Epoch: 7\tTrain loss: 1.1391\tValid loss: 1.0258\tTrain accuracy: 59.59\tValid accuracy: 63.91\n",
            "Epoch: 8\tTrain loss: 1.0992\tValid loss: 0.9822\tTrain accuracy: 61.62\tValid accuracy: 65.18\n",
            "Epoch: 9\tTrain loss: 1.0726\tValid loss: 1.0025\tTrain accuracy: 60.13\tValid accuracy: 64.21\n",
            "Epoch: 10\tTrain loss: 1.0474\tValid loss: 0.9147\tTrain accuracy: 63.79\tValid accuracy: 68.28\n",
            "Epoch: 11\tTrain loss: 1.0194\tValid loss: 0.9102\tTrain accuracy: 64.16\tValid accuracy: 67.46\n",
            "Epoch: 12\tTrain loss: 1.0007\tValid loss: 0.8798\tTrain accuracy: 66.00\tValid accuracy: 68.64\n",
            "Epoch: 13\tTrain loss: 0.9743\tValid loss: 0.8741\tTrain accuracy: 65.86\tValid accuracy: 69.14\n",
            "Epoch: 14\tTrain loss: 0.9561\tValid loss: 0.8757\tTrain accuracy: 66.80\tValid accuracy: 69.00\n",
            "Epoch: 15\tTrain loss: 0.9409\tValid loss: 0.8670\tTrain accuracy: 66.72\tValid accuracy: 69.61\n",
            "Epoch: 16\tTrain loss: 0.9248\tValid loss: 0.8477\tTrain accuracy: 67.18\tValid accuracy: 70.16\n",
            "Epoch: 17\tTrain loss: 0.9093\tValid loss: 0.8209\tTrain accuracy: 67.80\tValid accuracy: 71.08\n",
            "Epoch: 18\tTrain loss: 0.8909\tValid loss: 0.8365\tTrain accuracy: 67.02\tValid accuracy: 70.03\n",
            "Epoch: 19\tTrain loss: 0.8748\tValid loss: 0.8055\tTrain accuracy: 68.21\tValid accuracy: 71.81\n",
            "Epoch: 20\tTrain loss: 0.8677\tValid loss: 0.7742\tTrain accuracy: 70.26\tValid accuracy: 72.92\n",
            "Epoch: 21\tTrain loss: 0.8507\tValid loss: 0.7802\tTrain accuracy: 70.30\tValid accuracy: 72.46\n",
            "Epoch: 22\tTrain loss: 0.8428\tValid loss: 0.7736\tTrain accuracy: 70.54\tValid accuracy: 72.65\n",
            "Epoch: 23\tTrain loss: 0.8297\tValid loss: 0.8079\tTrain accuracy: 69.38\tValid accuracy: 71.71\n",
            "Epoch: 24\tTrain loss: 0.8209\tValid loss: 0.8108\tTrain accuracy: 69.32\tValid accuracy: 71.29\n",
            "Epoch: 25\tTrain loss: 0.8084\tValid loss: 0.7379\tTrain accuracy: 72.23\tValid accuracy: 74.55\n",
            "Epoch: 26\tTrain loss: 0.7968\tValid loss: 0.7749\tTrain accuracy: 71.39\tValid accuracy: 73.09\n",
            "Epoch: 27\tTrain loss: 0.7854\tValid loss: 0.8450\tTrain accuracy: 66.96\tValid accuracy: 69.87\n",
            "Epoch: 28\tTrain loss: 0.7791\tValid loss: 0.8209\tTrain accuracy: 68.80\tValid accuracy: 71.29\n",
            "Epoch: 29\tTrain loss: 0.7699\tValid loss: 0.7278\tTrain accuracy: 72.74\tValid accuracy: 74.15\n",
            "Epoch: 30\tTrain loss: 0.7578\tValid loss: 0.7037\tTrain accuracy: 73.95\tValid accuracy: 75.21\n",
            "Epoch: 31\tTrain loss: 0.7509\tValid loss: 0.7059\tTrain accuracy: 72.94\tValid accuracy: 75.45\n",
            "Epoch: 32\tTrain loss: 0.7431\tValid loss: 0.7064\tTrain accuracy: 73.65\tValid accuracy: 74.92\n",
            "Epoch: 33\tTrain loss: 0.7399\tValid loss: 0.6956\tTrain accuracy: 73.88\tValid accuracy: 75.35\n",
            "Epoch: 34\tTrain loss: 0.7282\tValid loss: 0.7069\tTrain accuracy: 73.35\tValid accuracy: 75.27\n",
            "Epoch: 35\tTrain loss: 0.7171\tValid loss: 0.6918\tTrain accuracy: 74.49\tValid accuracy: 75.70\n",
            "Epoch: 36\tTrain loss: 0.7168\tValid loss: 0.6614\tTrain accuracy: 75.95\tValid accuracy: 76.59\n",
            "Epoch: 37\tTrain loss: 0.7089\tValid loss: 0.7148\tTrain accuracy: 73.72\tValid accuracy: 74.73\n",
            "Epoch: 38\tTrain loss: 0.6967\tValid loss: 0.6605\tTrain accuracy: 75.62\tValid accuracy: 76.74\n",
            "Epoch: 39\tTrain loss: 0.6922\tValid loss: 0.6745\tTrain accuracy: 74.78\tValid accuracy: 76.00\n",
            "Epoch: 40\tTrain loss: 0.6877\tValid loss: 0.6564\tTrain accuracy: 75.91\tValid accuracy: 77.30\n",
            "Epoch: 41\tTrain loss: 0.6818\tValid loss: 0.6473\tTrain accuracy: 76.41\tValid accuracy: 77.61\n",
            "Epoch: 42\tTrain loss: 0.6762\tValid loss: 0.6787\tTrain accuracy: 75.55\tValid accuracy: 76.20\n",
            "Epoch: 43\tTrain loss: 0.6677\tValid loss: 0.6415\tTrain accuracy: 76.51\tValid accuracy: 77.51\n",
            "Epoch: 44\tTrain loss: 0.6637\tValid loss: 0.6381\tTrain accuracy: 77.18\tValid accuracy: 77.19\n",
            "Epoch: 45\tTrain loss: 0.6572\tValid loss: 0.6482\tTrain accuracy: 76.74\tValid accuracy: 77.46\n",
            "Epoch: 46\tTrain loss: 0.6551\tValid loss: 0.6441\tTrain accuracy: 76.21\tValid accuracy: 77.62\n",
            "Epoch: 47\tTrain loss: 0.6447\tValid loss: 0.6384\tTrain accuracy: 77.06\tValid accuracy: 77.83\n",
            "Epoch: 48\tTrain loss: 0.6449\tValid loss: 0.6139\tTrain accuracy: 78.06\tValid accuracy: 78.35\n",
            "Epoch: 49\tTrain loss: 0.6372\tValid loss: 0.6269\tTrain accuracy: 76.87\tValid accuracy: 77.82\n",
            "Epoch: 50\tTrain loss: 0.6355\tValid loss: 0.6191\tTrain accuracy: 78.22\tValid accuracy: 78.65\n",
            "Epoch: 51\tTrain loss: 0.6237\tValid loss: 0.6065\tTrain accuracy: 78.45\tValid accuracy: 78.66\n",
            "Epoch: 52\tTrain loss: 0.6226\tValid loss: 0.5952\tTrain accuracy: 78.72\tValid accuracy: 79.06\n",
            "Epoch: 53\tTrain loss: 0.6157\tValid loss: 0.6427\tTrain accuracy: 77.38\tValid accuracy: 77.56\n",
            "Epoch: 54\tTrain loss: 0.6137\tValid loss: 0.6335\tTrain accuracy: 77.27\tValid accuracy: 77.53\n",
            "Epoch: 55\tTrain loss: 0.6089\tValid loss: 0.6577\tTrain accuracy: 76.32\tValid accuracy: 77.33\n",
            "Epoch: 56\tTrain loss: 0.6045\tValid loss: 0.6155\tTrain accuracy: 78.53\tValid accuracy: 78.30\n",
            "Epoch: 57\tTrain loss: 0.5972\tValid loss: 0.6633\tTrain accuracy: 76.32\tValid accuracy: 77.03\n",
            "Epoch: 58\tTrain loss: 0.5970\tValid loss: 0.5815\tTrain accuracy: 79.56\tValid accuracy: 79.70\n",
            "Epoch: 59\tTrain loss: 0.5915\tValid loss: 0.6116\tTrain accuracy: 78.56\tValid accuracy: 78.30\n",
            "Epoch: 60\tTrain loss: 0.5879\tValid loss: 0.6179\tTrain accuracy: 78.61\tValid accuracy: 78.49\n",
            "Epoch: 61\tTrain loss: 0.5823\tValid loss: 0.5614\tTrain accuracy: 80.59\tValid accuracy: 80.04\n",
            "Epoch: 62\tTrain loss: 0.5813\tValid loss: 0.6278\tTrain accuracy: 78.21\tValid accuracy: 78.18\n",
            "Epoch: 63\tTrain loss: 0.5745\tValid loss: 0.5745\tTrain accuracy: 80.04\tValid accuracy: 80.04\n",
            "Epoch: 64\tTrain loss: 0.5691\tValid loss: 0.6490\tTrain accuracy: 77.97\tValid accuracy: 77.66\n",
            "Epoch: 65\tTrain loss: 0.5628\tValid loss: 0.5807\tTrain accuracy: 80.09\tValid accuracy: 79.59\n",
            "Epoch: 66\tTrain loss: 0.5631\tValid loss: 0.5509\tTrain accuracy: 81.29\tValid accuracy: 80.64\n",
            "Epoch: 67\tTrain loss: 0.5615\tValid loss: 0.5893\tTrain accuracy: 79.97\tValid accuracy: 79.70\n",
            "Epoch: 68\tTrain loss: 0.5542\tValid loss: 0.5645\tTrain accuracy: 80.96\tValid accuracy: 80.36\n",
            "Epoch: 69\tTrain loss: 0.5501\tValid loss: 0.5564\tTrain accuracy: 81.11\tValid accuracy: 80.85\n",
            "Epoch: 70\tTrain loss: 0.5490\tValid loss: 0.5673\tTrain accuracy: 80.36\tValid accuracy: 80.07\n",
            "Epoch: 71\tTrain loss: 0.5445\tValid loss: 0.5564\tTrain accuracy: 81.49\tValid accuracy: 80.48\n",
            "Epoch: 72\tTrain loss: 0.5416\tValid loss: 0.6163\tTrain accuracy: 79.27\tValid accuracy: 78.93\n",
            "Epoch: 73\tTrain loss: 0.5377\tValid loss: 0.5820\tTrain accuracy: 80.43\tValid accuracy: 79.83\n",
            "Epoch: 74\tTrain loss: 0.5330\tValid loss: 0.5315\tTrain accuracy: 82.44\tValid accuracy: 81.31\n",
            "Epoch: 75\tTrain loss: 0.5318\tValid loss: 0.5477\tTrain accuracy: 81.89\tValid accuracy: 80.87\n",
            "Epoch: 76\tTrain loss: 0.5316\tValid loss: 0.5603\tTrain accuracy: 81.15\tValid accuracy: 80.39\n",
            "Epoch: 77\tTrain loss: 0.5230\tValid loss: 0.5482\tTrain accuracy: 81.99\tValid accuracy: 80.51\n",
            "Epoch: 78\tTrain loss: 0.5221\tValid loss: 0.5546\tTrain accuracy: 81.60\tValid accuracy: 80.67\n",
            "Epoch: 79\tTrain loss: 0.5170\tValid loss: 0.5454\tTrain accuracy: 82.54\tValid accuracy: 81.00\n",
            "Epoch: 80\tTrain loss: 0.5152\tValid loss: 0.5668\tTrain accuracy: 80.80\tValid accuracy: 80.34\n",
            "Epoch: 81\tTrain loss: 0.5137\tValid loss: 0.5445\tTrain accuracy: 82.43\tValid accuracy: 81.08\n",
            "Epoch: 82\tTrain loss: 0.5073\tValid loss: 0.5362\tTrain accuracy: 82.38\tValid accuracy: 81.30\n",
            "Epoch: 83\tTrain loss: 0.5066\tValid loss: 0.5645\tTrain accuracy: 81.54\tValid accuracy: 80.44\n",
            "Epoch: 84\tTrain loss: 0.5006\tValid loss: 0.5397\tTrain accuracy: 82.41\tValid accuracy: 81.43\n",
            "Epoch: 85\tTrain loss: 0.4990\tValid loss: 0.5346\tTrain accuracy: 82.51\tValid accuracy: 81.54\n",
            "Epoch: 86\tTrain loss: 0.4953\tValid loss: 0.5368\tTrain accuracy: 82.33\tValid accuracy: 81.11\n",
            "Epoch: 87\tTrain loss: 0.4937\tValid loss: 0.5302\tTrain accuracy: 83.22\tValid accuracy: 81.29\n",
            "Epoch: 88\tTrain loss: 0.4969\tValid loss: 0.5271\tTrain accuracy: 83.76\tValid accuracy: 81.85\n",
            "Epoch: 89\tTrain loss: 0.4899\tValid loss: 0.6000\tTrain accuracy: 80.75\tValid accuracy: 78.99\n",
            "Epoch: 90\tTrain loss: 0.4892\tValid loss: 0.5264\tTrain accuracy: 83.59\tValid accuracy: 81.61\n",
            "Epoch: 91\tTrain loss: 0.4871\tValid loss: 0.5093\tTrain accuracy: 83.94\tValid accuracy: 82.34\n",
            "Epoch: 92\tTrain loss: 0.4800\tValid loss: 0.5388\tTrain accuracy: 82.94\tValid accuracy: 81.38\n",
            "Epoch: 93\tTrain loss: 0.4764\tValid loss: 0.5425\tTrain accuracy: 82.96\tValid accuracy: 81.27\n",
            "Epoch: 94\tTrain loss: 0.4761\tValid loss: 0.5022\tTrain accuracy: 84.35\tValid accuracy: 82.27\n",
            "Epoch: 95\tTrain loss: 0.4713\tValid loss: 0.5089\tTrain accuracy: 84.11\tValid accuracy: 82.24\n",
            "Epoch: 96\tTrain loss: 0.4687\tValid loss: 0.5230\tTrain accuracy: 83.83\tValid accuracy: 81.91\n",
            "Epoch: 97\tTrain loss: 0.4658\tValid loss: 0.5497\tTrain accuracy: 82.88\tValid accuracy: 81.06\n",
            "Epoch: 98\tTrain loss: 0.4645\tValid loss: 0.5384\tTrain accuracy: 83.07\tValid accuracy: 81.56\n",
            "Epoch: 99\tTrain loss: 0.4660\tValid loss: 0.5323\tTrain accuracy: 83.24\tValid accuracy: 81.80\n"
          ]
        }
      ],
      "source": [
        "model, optimizer, (train_losses, valid_losses), (train_accuracies, valid_accuracies) = training_loop(model, criterion, optimizer,\n",
        "                                                                                                     train_loader, test_loader, EPOCHS, DEVICE)\n"
      ]
    },
    {
      "cell_type": "markdown",
      "metadata": {},
      "source": [
        "## Plot Accuracy and Loss"
      ]
    },
    {
      "cell_type": "code",
      "execution_count": 16,
      "metadata": {
        "id": "Nso-asIhS90N"
      },
      "outputs": [
        {
          "data": {
            "image/png": "[encoded data removed]",
            "text/plain": [
              "<Figure size 432x288 with 1 Axes>"
            ]
          },
          "metadata": {
            "needs_background": "light"
          },
          "output_type": "display_data"
        },
        {
          "data": {
            "image/png": "[encoded data removed]",
            "text/plain": [
              "<Figure size 432x288 with 1 Axes>"
            ]
          },
          "metadata": {
            "needs_background": "light"
          },
          "output_type": "display_data"
        }
      ],
      "source": [
        "SAVE_PLOTS = False \n",
        "if SAVE_PLOTS:\n",
        "    matplotlib.use(\"Agg\")\n",
        "\n",
        "# Plot Loss\n",
        "plt.figure()\n",
        "plt.title(\"Training and Validation Loss\")\n",
        "plt.plot(range(len(train_losses)), train_losses, color=\"r\", label=\"Training\")\n",
        "plt.plot(range(len(valid_losses)), valid_losses, color=\"b\", label=\"Validation\")\n",
        "plt.legend(loc=\"best\")\n",
        "plt.ylabel(\"Loss\")\n",
        "plt.xlabel(\"Epochs\")\n",
        "if SAVE_PLOTS:\n",
        "    plt.savefig(\n",
        "        \"plots/centralised_LR[{}]_EPOCHS[{}]_BATCHNORM[{}]_GROUPNORM[{},{},{}]_loss.png\".format(LEARNING_RATE, EPOCHS, BATCH_NORM, GROUP_NORM, groupNormParams['groupNL1'], groupNormParams['groupNL2']))\n",
        "else:\n",
        "    plt.show()\n",
        "\n",
        "# Plot Accuracy\n",
        "plt.figure()\n",
        "plt.title(\"Training and Validation Accuracy\")\n",
        "plt.plot(range(len(train_accuracies)),\n",
        "         train_accuracies, color=\"r\", label=\"Training\")\n",
        "plt.plot(range(len(valid_accuracies)), valid_accuracies,\n",
        "         color=\"b\", label=\"Validation\")\n",
        "plt.legend(loc=\"best\")\n",
        "plt.ylabel(\"Accuracy\")\n",
        "plt.xlabel(\"Epochs\")\n",
        "if SAVE_PLOTS:\n",
        "    plt.savefig(\n",
        "        \"plots/centralised_LR[{}]_EPOCHS[{}]_BATCHNORM[{}]_GROUPNORM[{},{},{}]_accuracy.png\".format(LEARNING_RATE, EPOCHS, BATCH_NORM, GROUP_NORM, groupNormParams['groupNL1'], groupNormParams['groupNL2']))\n",
        "else:\n",
        "    plt.show()\n"
      ]
    }
  ],
  "metadata": {
    "accelerator": "GPU",
    "colab": {
      "authorship_tag": "ABX9TyOHbIqVnL0EicjZQKAFl3Mm",
      "collapsed_sections": [],
      "name": "centralisedModel.ipynb",
      "provenance": []
    },
    "kernelspec": {
      "display_name": "Python 3",
      "name": "python3"
    },
    "language_info": {
      "codemirror_mode": {
        "name": "ipython",
        "version": 3
      },
      "file_extension": ".py",
      "mimetype": "text/x-python",
      "name": "python",
      "nbconvert_exporter": "python",
      "pygments_lexer": "ipython3",
      "version": "3.9.9"
    }
  },
  "nbformat": 4,
  "nbformat_minor": 0
}
