{
  "cells": [
    {
      "cell_type": "markdown",
      "metadata": {},
      "source": [
        "# Import libraries"
      ]
    },
    {
      "cell_type": "code",
      "execution_count": null,
      "metadata": {
        "id": "pOIPm-AJwPJ6"
      },
      "outputs": [],
      "source": [
        "import torch\n",
        "import torch.nn as nn\n",
        "from torchvision import datasets, transforms\n",
        "from lenet5 import LeNet\n",
        "import matplotlib\n",
        "import matplotlib.pyplot as plt\n"
      ]
    },
    {
      "cell_type": "markdown",
      "metadata": {},
      "source": [
        "# Set Arguments"
      ]
    },
    {
      "cell_type": "code",
      "execution_count": null,
      "metadata": {},
      "outputs": [],
      "source": [
        "# Check if cuda is available\n",
        "DEVICE = 'cuda' if torch.cuda.is_available() else 'cpu'\n",
        "\n",
        "# Model Training Parameters\n",
        "EPOCHS = 10\n",
        "LEARNING_RATE = 2e-3\n",
        "BATCH_SIZE = 32\n",
        "\n",
        "# Save plots in the folder ./plots or show them\n",
        "SAVE_PLOTS = False\n"
      ]
    },
    {
      "cell_type": "markdown",
      "metadata": {},
      "source": [
        "# Training and Validation functions"
      ]
    },
    {
      "cell_type": "code",
      "execution_count": null,
      "metadata": {
        "id": "SyrXscPNxhol"
      },
      "outputs": [],
      "source": [
        "def train(train_loader, model, criterion, optimizer, device):\n",
        "    model.train()\n",
        "    running_loss = 0\n",
        "    for X, y_target in train_loader:\n",
        "\n",
        "        # Set gradient to zero\n",
        "        optimizer.zero_grad()\n",
        "\n",
        "        # If there is a GPU\n",
        "\n",
        "        X = X.to(device)\n",
        "        y_target = y_target.to(device)\n",
        "\n",
        "        # Prediction\n",
        "\n",
        "        # Call model forward()\n",
        "        y_predict, _ = model(X)\n",
        "        # Get loss\n",
        "        loss = criterion(y_predict, y_target)\n",
        "        running_loss += loss.item() * X.size(0)\n",
        "\n",
        "        # Adjusting weights\n",
        "        loss.backward()\n",
        "        optimizer.step()\n",
        "\n",
        "    epoch_loss = running_loss / len(train_loader.dataset)\n",
        "    return model, optimizer, epoch_loss\n",
        "\n",
        "\n",
        "def test(valid_loader, model, criterion, device):\n",
        "    model.eval()\n",
        "    running_loss = 0\n",
        "\n",
        "    for X, y_target in valid_loader:\n",
        "        # If there is a GPU\n",
        "\n",
        "        X = X.to(device)\n",
        "        y_target = y_target.to(device)\n",
        "\n",
        "        # Prediction and loss\n",
        "\n",
        "        # Call model forward()\n",
        "        y_predict, _ = model(X)\n",
        "        # Get loss\n",
        "        loss = criterion(y_predict, y_target)\n",
        "        running_loss += loss.item() * X.size(0)\n",
        "\n",
        "    epoch_loss = running_loss / len(valid_loader.dataset)\n",
        "    return model, epoch_loss\n",
        "\n",
        "\n",
        "def get_accuracy(model, data_loader, device):\n",
        "    '''\n",
        "    Function for computing the accuracy of the predictions over the entire data_loader\n",
        "    '''\n",
        "\n",
        "    correct_pred = 0\n",
        "    n = 0\n",
        "\n",
        "    with torch.no_grad():\n",
        "        model.eval()\n",
        "        for X, y_true in data_loader:\n",
        "\n",
        "            X = X.to(device)\n",
        "            y_true = y_true.to(device)\n",
        "\n",
        "            _, y_prob = model(X)\n",
        "            _, predicted_labels = torch.max(y_prob, 1)\n",
        "\n",
        "            n += y_true.size(0)\n",
        "            correct_pred += (predicted_labels == y_true).sum()\n",
        "\n",
        "    return correct_pred.float() / n\n"
      ]
    },
    {
      "cell_type": "code",
      "execution_count": null,
      "metadata": {},
      "outputs": [],
      "source": [
        "def training_loop(model, criterion, optimizer, train_loader, test_loader,\n",
        "                  epochs, device, print_every=1):\n",
        "\n",
        "    train_losses = []\n",
        "    valid_losses = []\n",
        "\n",
        "    train_accuracies = []\n",
        "    valid_accuracies = []\n",
        "\n",
        "    # Train model\n",
        "    for epoch in range(epochs):\n",
        "        model, optimizer, train_loss = train(train_loader, model,\n",
        "                                             criterion, optimizer, device)\n",
        "        train_losses.append(train_loss)\n",
        "\n",
        "        # Validation\n",
        "\n",
        "        # Disable gradient calculation to save memory\n",
        "        with torch.no_grad():\n",
        "            model, valid_loss = test(test_loader, model, criterion, device)\n",
        "            valid_losses.append(valid_loss)\n",
        "\n",
        "        if epoch % print_every == (print_every - 1):\n",
        "            train_acc = get_accuracy(model, train_loader, device)\n",
        "            valid_acc = get_accuracy(model, test_loader, device)\n",
        "\n",
        "            train_accuracies.append(train_acc)\n",
        "            valid_accuracies.append(valid_acc)\n",
        "\n",
        "            print(f'Epoch: {epoch}\\t'\n",
        "                  f'Train loss: {train_loss:.4f}\\t'\n",
        "                  f'Valid loss: {valid_loss:.4f}\\t'\n",
        "                  f'Train accuracy: {100 * train_acc:.2f}\\t'\n",
        "                  f'Valid accuracy: {100 * valid_acc:.2f}')\n",
        "\n",
        "    return model, optimizer, (train_losses, valid_losses), (train_accuracies, valid_accuracies)\n"
      ]
    },
    {
      "cell_type": "markdown",
      "metadata": {},
      "source": [
        "# Loaders and Transformations"
      ]
    },
    {
      "cell_type": "code",
      "execution_count": null,
      "metadata": {
        "id": "fFZ49UhVxna4"
      },
      "outputs": [],
      "source": [
        "# Image augmentation\n",
        "transform_train = transforms.Compose([\n",
        "    transforms.RandomCrop(32, padding=4),\n",
        "    transforms.RandomHorizontalFlip(),\n",
        "    transforms.ToTensor(),\n",
        "    transforms.Normalize((0.4914, 0.4822, 0.4465), (0.2023, 0.1994, 0.2010)),\n",
        "])\n",
        "\n",
        "# Normalizing the test images\n",
        "transform_test = transforms.Compose([\n",
        "    transforms.ToTensor(),\n",
        "    transforms.Normalize((0.4914, 0.4822, 0.4465), (0.2023, 0.1994, 0.2010)),\n",
        "])\n",
        "\n",
        "# Loading CIFAR10 using torchvision.datasets\n",
        "traindata = datasets.CIFAR10('./data', train=True, download=False,\n",
        "                             transform=transform_train)\n",
        "\n",
        "# Creating a pytorch loader for a Deep Learning model\n",
        "train_loader = torch.utils.data.DataLoader(\n",
        "    traindata, batch_size=BATCH_SIZE, shuffle=True)\n",
        "\n",
        "# Loading the test images and thus converting them into a test_loader\n",
        "test_loader = torch.utils.data.DataLoader(datasets.CIFAR10('./data', train=False,\n",
        "                                                           transform=transforms.Compose([transforms.ToTensor(),\n",
        "                                                                                         transforms.Normalize((0.4914, 0.4822, 0.4465), (0.2023, 0.1994, 0.2010))])\n",
        "                                                           ), batch_size=BATCH_SIZE, shuffle=True)\n"
      ]
    },
    {
      "cell_type": "markdown",
      "metadata": {},
      "source": [
        "# Model Selection"
      ]
    },
    {
      "cell_type": "code",
      "execution_count": null,
      "metadata": {
        "colab": {
          "base_uri": "https://localhost:8080/"
        },
        "id": "--l17eNixqMf",
        "outputId": "3e366c82-bd9a-4ece-dda5-e0e9b0b72f62"
      },
      "outputs": [],
      "source": [
        "model = LeNet().to(DEVICE)\n",
        "optimizer = torch.optim.SGD(model.parameters(), lr=LEARNING_RATE)\n",
        "criterion = nn.CrossEntropyLoss()\n"
      ]
    },
    {
      "cell_type": "markdown",
      "metadata": {},
      "source": [
        "# Train"
      ]
    },
    {
      "cell_type": "code",
      "execution_count": 15,
      "metadata": {},
      "outputs": [
        {
          "name": "stdout",
          "output_type": "stream",
          "text": [
            "Epoch: 0\tTrain loss: 2.2151\tValid loss: 2.0335\tTrain accuracy: 25.71\tValid accuracy: 27.31\n",
            "Epoch: 1\tTrain loss: 1.9582\tValid loss: 1.8382\tTrain accuracy: 30.99\tValid accuracy: 33.85\n",
            "Epoch: 2\tTrain loss: 1.8134\tValid loss: 1.6895\tTrain accuracy: 35.56\tValid accuracy: 38.24\n",
            "Epoch: 3\tTrain loss: 1.6910\tValid loss: 1.5668\tTrain accuracy: 39.62\tValid accuracy: 43.35\n",
            "Epoch: 4\tTrain loss: 1.6160\tValid loss: 1.5095\tTrain accuracy: 42.51\tValid accuracy: 45.19\n",
            "Epoch: 5\tTrain loss: 1.5578\tValid loss: 1.4678\tTrain accuracy: 43.81\tValid accuracy: 46.61\n",
            "Epoch: 6\tTrain loss: 1.5104\tValid loss: 1.4173\tTrain accuracy: 44.61\tValid accuracy: 48.53\n",
            "Epoch: 7\tTrain loss: 1.4660\tValid loss: 1.3729\tTrain accuracy: 46.59\tValid accuracy: 51.07\n",
            "Epoch: 8\tTrain loss: 1.4238\tValid loss: 1.3089\tTrain accuracy: 49.75\tValid accuracy: 53.55\n",
            "Epoch: 9\tTrain loss: 1.3824\tValid loss: 1.2703\tTrain accuracy: 50.49\tValid accuracy: 54.59\n"
          ]
        }
      ],
      "source": [
        "model, optimizer, (train_losses, valid_losses), (train_accuracies, valid_accuracies) = training_loop(model, criterion, optimizer,\n",
        "                                                                                                     train_loader, test_loader, EPOCHS, DEVICE)\n"
      ]
    },
    {
      "cell_type": "markdown",
      "metadata": {},
      "source": [
        "# Plot Accuracy and Loss"
      ]
    },
    {
      "cell_type": "code",
      "execution_count": 16,
      "metadata": {
        "id": "Nso-asIhS90N"
      },
      "outputs": [
        {
          "data": {
            "image/png": "[encoded data removed]",
            "text/plain": [
              "<Figure size 432x288 with 1 Axes>"
            ]
          },
          "metadata": {
            "needs_background": "light"
          },
          "output_type": "display_data"
        },
        {
          "data": {
            "image/png": "[encoded data removed]",
            "text/plain": [
              "<Figure size 432x288 with 1 Axes>"
            ]
          },
          "metadata": {
            "needs_background": "light"
          },
          "output_type": "display_data"
        }
      ],
      "source": [
        "\n",
        "if SAVE_PLOTS:\n",
        "    matplotlib.use(\"Agg\")\n",
        "\n",
        "# Plot Loss\n",
        "plt.figure()\n",
        "plt.title(\"Training and Validation Loss\")\n",
        "plt.plot(range(len(train_losses)), train_losses, color=\"r\", label=\"Training\")\n",
        "plt.plot(range(len(valid_losses)), valid_losses, color=\"b\", label=\"Validation\")\n",
        "plt.legend(loc=\"best\")\n",
        "plt.ylabel(\"Loss\")\n",
        "plt.xlabel(\"Epochs\")\n",
        "if SAVE_PLOTS:\n",
        "    plt.savefig(\n",
        "        \"plots/centralised_LR[{}]_EPOCHS[{}]_loss.png\".format(LEARNING_RATE, EPOCHS))\n",
        "else:\n",
        "    plt.show()\n",
        "\n",
        "# Plot Accuracy\n",
        "plt.figure()\n",
        "plt.title(\"Training and Validation Accuracy\")\n",
        "plt.plot(range(len(train_accuracies)),\n",
        "         train_accuracies, color=\"r\", label=\"Training\")\n",
        "plt.plot(range(len(valid_accuracies)), valid_accuracies,\n",
        "         color=\"b\", label=\"Validation\")\n",
        "plt.legend(loc=\"best\")\n",
        "plt.ylabel(\"Accuracy\")\n",
        "plt.xlabel(\"Epochs\")\n",
        "if SAVE_PLOTS:\n",
        "    plt.savefig(\n",
        "        \"plots/centralised_LR[{}]_EPOCHS[{}]_accuracy.png\".format(LEARNING_RATE, EPOCHS))\n",
        "else:\n",
        "    plt.show()\n"
      ]
    }
  ],
  "metadata": {
    "accelerator": "GPU",
    "colab": {
      "authorship_tag": "ABX9TyOHbIqVnL0EicjZQKAFl3Mm",
      "collapsed_sections": [],
      "name": "centralisedModel.ipynb",
      "provenance": []
    },
    "kernelspec": {
      "display_name": "Python 3",
      "name": "python3"
    },
    "language_info": {
      "codemirror_mode": {
        "name": "ipython",
        "version": 3
      },
      "file_extension": ".py",
      "mimetype": "text/x-python",
      "name": "python",
      "nbconvert_exporter": "python",
      "pygments_lexer": "ipython3",
      "version": "3.9.9"
    }
  },
  "nbformat": 4,
  "nbformat_minor": 0
}
