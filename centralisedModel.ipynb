{
  "cells": [
    {
      "cell_type": "markdown",
      "metadata": {},
      "source": [
        "## Import libraries"
      ]
    },
    {
      "cell_type": "code",
      "execution_count": 17,
      "metadata": {
        "id": "pOIPm-AJwPJ6"
      },
      "outputs": [],
      "source": [
        "import torch\n",
        "import torch.nn as nn\n",
        "from torchvision import datasets, transforms\n",
        "from lenet5 import LeNet\n",
        "import matplotlib\n",
        "import matplotlib.pyplot as plt"
      ]
    },
    {
      "cell_type": "markdown",
      "metadata": {},
      "source": [
        "## Set Parameters "
      ]
    },
    {
      "cell_type": "code",
      "execution_count": 18,
      "metadata": {},
      "outputs": [],
      "source": [
        "# Check if cuda is available\n",
        "DEVICE = 'cuda' if torch.cuda.is_available() else 'cpu'\n",
        "\n",
        "# Model Training Parameters\n",
        "EPOCHS = 100\n",
        "LEARNING_RATE = 2e-3\n",
        "BATCH_SIZE = 32\n",
        "\n",
        "# Save plots in the folder ./plots or show them\n",
        "SAVE_PLOTS = False\n",
        "\n",
        "\n",
        "# Use batch normalization or not\n",
        "BATCH_NORM = False \n",
        "# group normalization\n",
        "GROUP_NORM = True \n",
        "\n",
        "# group normalization parameters\n",
        "groupNormParams= {\n",
        "'groupNL1' : 2,\n",
        "'groupNL2' : 16\n",
        "}\n",
        "\n",
        "\n",
        "if GROUP_NORM ==True & BATCH_NORM ==True:\n",
        "    print(\" Cannot have group an batch normalization True at the same time\")\n",
        "    exit()\n"
      ]
    },
    {
      "cell_type": "markdown",
      "metadata": {},
      "source": [
        "## Training and Validation functions"
      ]
    },
    {
      "cell_type": "code",
      "execution_count": 19,
      "metadata": {
        "id": "SyrXscPNxhol"
      },
      "outputs": [],
      "source": [
        "def train(train_loader, model, criterion, optimizer, device):\n",
        "    model.train()\n",
        "    running_loss = 0\n",
        "    for X, y_target in train_loader:\n",
        "\n",
        "        # Set gradient to zero\n",
        "        optimizer.zero_grad()\n",
        "\n",
        "        # If there is a GPU, pass the data to the GPU\n",
        "\n",
        "        X = X.to(device)\n",
        "        y_target = y_target.to(device)\n",
        "\n",
        "        # Prediction\n",
        "\n",
        "        # Call model forward()\n",
        "        y_predict, _ = model(X)\n",
        "\n",
        "        # Get loss\n",
        "        loss = criterion(y_predict, y_target)\n",
        "        running_loss += loss.item() * X.size(0)\n",
        "\n",
        "        # Adjusting weights\n",
        "        loss.backward()\n",
        "        optimizer.step()\n",
        "\n",
        "    epoch_loss = running_loss / len(train_loader.dataset)\n",
        "    return model, optimizer, epoch_loss\n",
        "\n",
        "\n",
        "def test(valid_loader, model, criterion, device):\n",
        "    model.eval()\n",
        "    running_loss = 0\n",
        "\n",
        "    for X, y_target in valid_loader:\n",
        "        # If there is a GPU\n",
        "\n",
        "        X = X.to(device)\n",
        "        y_target = y_target.to(device)\n",
        "\n",
        "        # Prediction and loss\n",
        "\n",
        "        # Call model forward()\n",
        "        y_predict, _ = model(X)\n",
        "        \n",
        "        # Get loss\n",
        "        loss = criterion(y_predict, y_target)\n",
        "        running_loss += loss.item() * X.size(0)\n",
        "\n",
        "    epoch_loss = running_loss / len(valid_loader.dataset)\n",
        "    return model, epoch_loss\n",
        "\n",
        "\n",
        "def get_accuracy(model, data_loader, device):\n",
        "    '''\n",
        "    Function for computing the accuracy of the predictions over the entire data_loader\n",
        "    '''\n",
        "\n",
        "    correct_pred = 0\n",
        "    n = 0\n",
        "\n",
        "    with torch.no_grad():\n",
        "        model.eval()\n",
        "        for X, y_true in data_loader:\n",
        "\n",
        "            X = X.to(device)\n",
        "            y_true = y_true.to(device)\n",
        "\n",
        "            _, y_prob = model(X)\n",
        "            _, predicted_labels = torch.max(y_prob, 1)\n",
        "\n",
        "            n += y_true.size(0)\n",
        "            correct_pred += (predicted_labels == y_true).sum()\n",
        "\n",
        "    return correct_pred.float() / n\n"
      ]
    },
    {
      "cell_type": "code",
      "execution_count": 20,
      "metadata": {},
      "outputs": [],
      "source": [
        "def training_loop(model, criterion, optimizer, train_loader, test_loader,\n",
        "                  epochs, device, print_every=1):\n",
        "\n",
        "    train_losses = []\n",
        "    valid_losses = []\n",
        "\n",
        "    train_accuracies = []\n",
        "    valid_accuracies = []\n",
        "\n",
        "    # Train model\n",
        "    for epoch in range(epochs):\n",
        "        model, optimizer, train_loss = train(train_loader, model,\n",
        "                                             criterion, optimizer, device)\n",
        "        train_losses.append(train_loss)\n",
        "\n",
        "        # Validation\n",
        "\n",
        "        # Disable gradient calculation to save memory\n",
        "        with torch.no_grad():\n",
        "            model, valid_loss = test(test_loader, model, criterion, device)\n",
        "            valid_losses.append(valid_loss)\n",
        "\n",
        "        if epoch % print_every == (print_every - 1):\n",
        "            train_acc = get_accuracy(model, train_loader, device)\n",
        "            valid_acc = get_accuracy(model, test_loader, device)\n",
        "\n",
        "            train_accuracies.append(train_acc)\n",
        "            valid_accuracies.append(valid_acc)\n",
        "\n",
        "            print(f'Epoch: {epoch}\\t'\n",
        "                  f'Train loss: {train_loss:.4f}\\t'\n",
        "                  f'Valid loss: {valid_loss:.4f}\\t'\n",
        "                  f'Train accuracy: {100 * train_acc:.2f}\\t'\n",
        "                  f'Valid accuracy: {100 * valid_acc:.2f}')\n",
        "\n",
        "    return model, optimizer, (train_losses, valid_losses), (train_accuracies, valid_accuracies)\n"
      ]
    },
    {
      "cell_type": "markdown",
      "metadata": {},
      "source": [
        "## Loaders and Transformations"
      ]
    },
    {
      "cell_type": "code",
      "execution_count": 21,
      "metadata": {
        "id": "fFZ49UhVxna4"
      },
      "outputs": [],
      "source": [
        "# Image augmentation\n",
        "transform_train = transforms.Compose([\n",
        "    transforms.RandomCrop(32, padding=4),\n",
        "    transforms.RandomHorizontalFlip(),\n",
        "    transforms.ToTensor(),\n",
        "    transforms.Normalize((0.4914, 0.4822, 0.4465), (0.2023, 0.1994, 0.2010)),\n",
        "])\n",
        "\n",
        "# Normalizing the test images\n",
        "transform_test = transforms.Compose([\n",
        "    transforms.ToTensor(),\n",
        "    transforms.Normalize((0.4914, 0.4822, 0.4465), (0.2023, 0.1994, 0.2010)),\n",
        "])\n",
        "\n",
        "# Loading CIFAR10 using torchvision.datasets\n",
        "traindata = datasets.CIFAR10('./data', train=True, download=False,\n",
        "                             transform=transform_train)\n",
        "\n",
        "# Creating a pytorch loader for a Deep Learning model\n",
        "train_loader = torch.utils.data.DataLoader(\n",
        "    traindata, batch_size=BATCH_SIZE, shuffle=True)\n",
        "\n",
        "# Loading the test images and thus converting them into a test_loader\n",
        "test_loader = torch.utils.data.DataLoader(datasets.CIFAR10('./data', train=False,\n",
        "                                                           transform=transforms.Compose([transforms.ToTensor(),\n",
        "                                                                                         transforms.Normalize((0.4914, 0.4822, 0.4465), (0.2023, 0.1994, 0.2010))])\n",
        "                                                           ), batch_size=BATCH_SIZE, shuffle=True)\n"
      ]
    },
    {
      "cell_type": "markdown",
      "metadata": {},
      "source": [
        "## Model Selection"
      ]
    },
    {
      "cell_type": "code",
      "execution_count": 22,
      "metadata": {
        "colab": {
          "base_uri": "https://localhost:8080/"
        },
        "id": "--l17eNixqMf",
        "outputId": "3e366c82-bd9a-4ece-dda5-e0e9b0b72f62"
      },
      "outputs": [],
      "source": [
        "model = LeNet(BATCH_NORM,GROUP_NORM,groupNormParams).to(DEVICE)\n",
        "\n",
        "optimizer = torch.optim.SGD(model.parameters(), lr=LEARNING_RATE)\n",
        "criterion = nn.CrossEntropyLoss()\n"
      ]
    },
    {
      "cell_type": "markdown",
      "metadata": {},
      "source": [
        "## Train"
      ]
    },
    {
      "cell_type": "code",
      "execution_count": 23,
      "metadata": {},
      "outputs": [
        {
          "name": "stdout",
          "output_type": "stream",
          "text": [
            "Epoch: 0\tTrain loss: 2.0748\tValid loss: 1.7962\tTrain accuracy: 32.98\tValid accuracy: 36.06\n",
            "Epoch: 1\tTrain loss: 1.6948\tValid loss: 1.5226\tTrain accuracy: 41.05\tValid accuracy: 44.32\n",
            "Epoch: 2\tTrain loss: 1.5031\tValid loss: 1.4111\tTrain accuracy: 44.89\tValid accuracy: 48.08\n",
            "Epoch: 3\tTrain loss: 1.3855\tValid loss: 1.2321\tTrain accuracy: 51.90\tValid accuracy: 55.61\n",
            "Epoch: 4\tTrain loss: 1.3007\tValid loss: 1.2296\tTrain accuracy: 51.10\tValid accuracy: 55.14\n",
            "Epoch: 5\tTrain loss: 1.2346\tValid loss: 1.1581\tTrain accuracy: 55.31\tValid accuracy: 58.30\n",
            "Epoch: 6\tTrain loss: 1.1877\tValid loss: 1.0645\tTrain accuracy: 58.25\tValid accuracy: 61.74\n",
            "Epoch: 7\tTrain loss: 1.1471\tValid loss: 1.0193\tTrain accuracy: 60.73\tValid accuracy: 64.14\n",
            "Epoch: 8\tTrain loss: 1.1101\tValid loss: 1.0061\tTrain accuracy: 60.26\tValid accuracy: 64.57\n",
            "Epoch: 9\tTrain loss: 1.0800\tValid loss: 0.9988\tTrain accuracy: 61.49\tValid accuracy: 65.01\n",
            "Epoch: 10\tTrain loss: 1.0544\tValid loss: 0.9848\tTrain accuracy: 61.60\tValid accuracy: 65.17\n",
            "Epoch: 11\tTrain loss: 1.0295\tValid loss: 0.9848\tTrain accuracy: 62.70\tValid accuracy: 65.19\n",
            "Epoch: 12\tTrain loss: 1.0020\tValid loss: 0.8922\tTrain accuracy: 65.11\tValid accuracy: 68.76\n",
            "Epoch: 13\tTrain loss: 0.9827\tValid loss: 0.8756\tTrain accuracy: 66.05\tValid accuracy: 69.20\n",
            "Epoch: 14\tTrain loss: 0.9640\tValid loss: 0.8512\tTrain accuracy: 66.79\tValid accuracy: 70.30\n",
            "Epoch: 15\tTrain loss: 0.9443\tValid loss: 0.8664\tTrain accuracy: 66.27\tValid accuracy: 69.90\n",
            "Epoch: 16\tTrain loss: 0.9260\tValid loss: 0.8320\tTrain accuracy: 67.75\tValid accuracy: 71.34\n",
            "Epoch: 17\tTrain loss: 0.9108\tValid loss: 0.8558\tTrain accuracy: 67.39\tValid accuracy: 69.79\n",
            "Epoch: 18\tTrain loss: 0.8973\tValid loss: 0.8566\tTrain accuracy: 67.40\tValid accuracy: 69.80\n",
            "Epoch: 19\tTrain loss: 0.8811\tValid loss: 0.8533\tTrain accuracy: 67.42\tValid accuracy: 70.56\n",
            "Epoch: 20\tTrain loss: 0.8748\tValid loss: 0.9018\tTrain accuracy: 64.39\tValid accuracy: 68.42\n",
            "Epoch: 21\tTrain loss: 0.8580\tValid loss: 0.8257\tTrain accuracy: 68.30\tValid accuracy: 71.04\n",
            "Epoch: 22\tTrain loss: 0.8477\tValid loss: 0.7720\tTrain accuracy: 70.38\tValid accuracy: 72.81\n",
            "Epoch: 23\tTrain loss: 0.8356\tValid loss: 0.7844\tTrain accuracy: 70.41\tValid accuracy: 72.65\n",
            "Epoch: 24\tTrain loss: 0.8196\tValid loss: 0.7395\tTrain accuracy: 71.91\tValid accuracy: 74.36\n",
            "Epoch: 25\tTrain loss: 0.8152\tValid loss: 0.7637\tTrain accuracy: 70.26\tValid accuracy: 73.48\n",
            "Epoch: 26\tTrain loss: 0.8049\tValid loss: 0.7342\tTrain accuracy: 71.77\tValid accuracy: 74.27\n",
            "Epoch: 27\tTrain loss: 0.8003\tValid loss: 0.8117\tTrain accuracy: 69.69\tValid accuracy: 71.99\n",
            "Epoch: 28\tTrain loss: 0.7855\tValid loss: 0.7299\tTrain accuracy: 72.94\tValid accuracy: 74.61\n",
            "Epoch: 29\tTrain loss: 0.7772\tValid loss: 0.7573\tTrain accuracy: 71.62\tValid accuracy: 73.52\n",
            "Epoch: 30\tTrain loss: 0.7681\tValid loss: 0.7013\tTrain accuracy: 73.58\tValid accuracy: 75.93\n",
            "Epoch: 31\tTrain loss: 0.7624\tValid loss: 0.7054\tTrain accuracy: 74.08\tValid accuracy: 75.38\n",
            "Epoch: 32\tTrain loss: 0.7550\tValid loss: 0.7369\tTrain accuracy: 72.41\tValid accuracy: 74.34\n",
            "Epoch: 33\tTrain loss: 0.7473\tValid loss: 0.6861\tTrain accuracy: 74.66\tValid accuracy: 76.12\n",
            "Epoch: 34\tTrain loss: 0.7372\tValid loss: 0.7342\tTrain accuracy: 72.81\tValid accuracy: 74.54\n",
            "Epoch: 35\tTrain loss: 0.7323\tValid loss: 0.6897\tTrain accuracy: 74.49\tValid accuracy: 76.24\n",
            "Epoch: 36\tTrain loss: 0.7208\tValid loss: 0.6570\tTrain accuracy: 75.97\tValid accuracy: 77.39\n",
            "Epoch: 37\tTrain loss: 0.7199\tValid loss: 0.7400\tTrain accuracy: 72.49\tValid accuracy: 74.08\n",
            "Epoch: 38\tTrain loss: 0.7110\tValid loss: 0.6730\tTrain accuracy: 75.18\tValid accuracy: 76.59\n",
            "Epoch: 39\tTrain loss: 0.7013\tValid loss: 0.6691\tTrain accuracy: 75.69\tValid accuracy: 76.11\n",
            "Epoch: 40\tTrain loss: 0.7042\tValid loss: 0.6424\tTrain accuracy: 76.42\tValid accuracy: 77.83\n",
            "Epoch: 41\tTrain loss: 0.6879\tValid loss: 0.7131\tTrain accuracy: 73.57\tValid accuracy: 75.13\n",
            "Epoch: 42\tTrain loss: 0.6889\tValid loss: 0.7136\tTrain accuracy: 73.60\tValid accuracy: 75.58\n",
            "Epoch: 43\tTrain loss: 0.6805\tValid loss: 0.7140\tTrain accuracy: 73.90\tValid accuracy: 75.18\n",
            "Epoch: 44\tTrain loss: 0.6803\tValid loss: 0.6435\tTrain accuracy: 76.48\tValid accuracy: 77.38\n",
            "Epoch: 45\tTrain loss: 0.6744\tValid loss: 0.6505\tTrain accuracy: 76.63\tValid accuracy: 77.40\n",
            "Epoch: 46\tTrain loss: 0.6670\tValid loss: 0.6485\tTrain accuracy: 77.03\tValid accuracy: 76.94\n",
            "Epoch: 47\tTrain loss: 0.6616\tValid loss: 0.7117\tTrain accuracy: 74.01\tValid accuracy: 75.62\n",
            "Epoch: 48\tTrain loss: 0.6552\tValid loss: 0.6384\tTrain accuracy: 77.38\tValid accuracy: 77.78\n",
            "Epoch: 49\tTrain loss: 0.6499\tValid loss: 0.6257\tTrain accuracy: 77.39\tValid accuracy: 78.29\n",
            "Epoch: 50\tTrain loss: 0.6465\tValid loss: 0.6153\tTrain accuracy: 78.09\tValid accuracy: 78.41\n",
            "Epoch: 51\tTrain loss: 0.6359\tValid loss: 0.6161\tTrain accuracy: 78.26\tValid accuracy: 78.27\n",
            "Epoch: 52\tTrain loss: 0.6410\tValid loss: 0.6383\tTrain accuracy: 76.97\tValid accuracy: 77.49\n",
            "Epoch: 53\tTrain loss: 0.6345\tValid loss: 0.6209\tTrain accuracy: 77.56\tValid accuracy: 78.27\n",
            "Epoch: 54\tTrain loss: 0.6257\tValid loss: 0.6308\tTrain accuracy: 77.15\tValid accuracy: 78.21\n",
            "Epoch: 55\tTrain loss: 0.6260\tValid loss: 0.6295\tTrain accuracy: 77.58\tValid accuracy: 78.01\n",
            "Epoch: 56\tTrain loss: 0.6167\tValid loss: 0.6245\tTrain accuracy: 78.27\tValid accuracy: 78.45\n",
            "Epoch: 57\tTrain loss: 0.6138\tValid loss: 0.6081\tTrain accuracy: 78.52\tValid accuracy: 78.97\n",
            "Epoch: 58\tTrain loss: 0.6082\tValid loss: 0.6170\tTrain accuracy: 78.77\tValid accuracy: 78.40\n",
            "Epoch: 59\tTrain loss: 0.6104\tValid loss: 0.5983\tTrain accuracy: 79.11\tValid accuracy: 79.23\n",
            "Epoch: 60\tTrain loss: 0.6035\tValid loss: 0.6392\tTrain accuracy: 77.44\tValid accuracy: 78.07\n",
            "Epoch: 61\tTrain loss: 0.5967\tValid loss: 0.6360\tTrain accuracy: 77.42\tValid accuracy: 77.78\n",
            "Epoch: 62\tTrain loss: 0.5934\tValid loss: 0.6819\tTrain accuracy: 76.69\tValid accuracy: 76.70\n",
            "Epoch: 63\tTrain loss: 0.5888\tValid loss: 0.6359\tTrain accuracy: 77.94\tValid accuracy: 77.99\n",
            "Epoch: 64\tTrain loss: 0.5833\tValid loss: 0.5775\tTrain accuracy: 79.88\tValid accuracy: 79.85\n",
            "Epoch: 65\tTrain loss: 0.5847\tValid loss: 0.5654\tTrain accuracy: 80.69\tValid accuracy: 80.11\n",
            "Epoch: 66\tTrain loss: 0.5797\tValid loss: 0.6324\tTrain accuracy: 78.27\tValid accuracy: 77.79\n",
            "Epoch: 67\tTrain loss: 0.5740\tValid loss: 0.5817\tTrain accuracy: 80.21\tValid accuracy: 79.45\n",
            "Epoch: 68\tTrain loss: 0.5734\tValid loss: 0.5729\tTrain accuracy: 80.82\tValid accuracy: 80.10\n",
            "Epoch: 69\tTrain loss: 0.5691\tValid loss: 0.6309\tTrain accuracy: 78.63\tValid accuracy: 78.55\n",
            "Epoch: 70\tTrain loss: 0.5632\tValid loss: 0.5770\tTrain accuracy: 80.51\tValid accuracy: 80.16\n",
            "Epoch: 71\tTrain loss: 0.5621\tValid loss: 0.5827\tTrain accuracy: 80.56\tValid accuracy: 79.69\n",
            "Epoch: 72\tTrain loss: 0.5564\tValid loss: 0.6206\tTrain accuracy: 79.14\tValid accuracy: 78.24\n",
            "Epoch: 73\tTrain loss: 0.5534\tValid loss: 0.5561\tTrain accuracy: 81.30\tValid accuracy: 80.71\n",
            "Epoch: 74\tTrain loss: 0.5543\tValid loss: 0.5908\tTrain accuracy: 80.33\tValid accuracy: 79.64\n",
            "Epoch: 75\tTrain loss: 0.5452\tValid loss: 0.6012\tTrain accuracy: 79.85\tValid accuracy: 79.36\n",
            "Epoch: 76\tTrain loss: 0.5437\tValid loss: 0.5603\tTrain accuracy: 81.29\tValid accuracy: 80.34\n",
            "Epoch: 77\tTrain loss: 0.5403\tValid loss: 0.6092\tTrain accuracy: 80.21\tValid accuracy: 79.20\n",
            "Epoch: 78\tTrain loss: 0.5395\tValid loss: 0.6186\tTrain accuracy: 78.99\tValid accuracy: 78.48\n",
            "Epoch: 79\tTrain loss: 0.5323\tValid loss: 0.5667\tTrain accuracy: 81.51\tValid accuracy: 80.12\n",
            "Epoch: 80\tTrain loss: 0.5322\tValid loss: 0.5741\tTrain accuracy: 80.59\tValid accuracy: 80.03\n",
            "Epoch: 81\tTrain loss: 0.5249\tValid loss: 0.5812\tTrain accuracy: 80.58\tValid accuracy: 79.62\n",
            "Epoch: 82\tTrain loss: 0.5294\tValid loss: 0.5975\tTrain accuracy: 80.03\tValid accuracy: 79.06\n",
            "Epoch: 83\tTrain loss: 0.5211\tValid loss: 0.5680\tTrain accuracy: 80.96\tValid accuracy: 80.61\n",
            "Epoch: 84\tTrain loss: 0.5199\tValid loss: 0.5709\tTrain accuracy: 81.01\tValid accuracy: 80.48\n",
            "Epoch: 85\tTrain loss: 0.5185\tValid loss: 0.6057\tTrain accuracy: 80.43\tValid accuracy: 79.38\n",
            "Epoch: 86\tTrain loss: 0.5105\tValid loss: 0.5514\tTrain accuracy: 82.06\tValid accuracy: 80.89\n",
            "Epoch: 87\tTrain loss: 0.5118\tValid loss: 0.5564\tTrain accuracy: 82.30\tValid accuracy: 81.01\n",
            "Epoch: 88\tTrain loss: 0.5058\tValid loss: 0.5681\tTrain accuracy: 81.15\tValid accuracy: 80.56\n",
            "Epoch: 89\tTrain loss: 0.5088\tValid loss: 0.5554\tTrain accuracy: 81.77\tValid accuracy: 80.67\n",
            "Epoch: 90\tTrain loss: 0.5037\tValid loss: 0.5451\tTrain accuracy: 82.21\tValid accuracy: 81.02\n",
            "Epoch: 91\tTrain loss: 0.5040\tValid loss: 0.5759\tTrain accuracy: 81.90\tValid accuracy: 80.38\n",
            "Epoch: 92\tTrain loss: 0.4961\tValid loss: 0.5524\tTrain accuracy: 82.67\tValid accuracy: 80.69\n",
            "Epoch: 93\tTrain loss: 0.4956\tValid loss: 0.5730\tTrain accuracy: 82.02\tValid accuracy: 80.39\n",
            "Epoch: 94\tTrain loss: 0.4934\tValid loss: 0.5367\tTrain accuracy: 83.33\tValid accuracy: 81.55\n",
            "Epoch: 95\tTrain loss: 0.4936\tValid loss: 0.5258\tTrain accuracy: 83.67\tValid accuracy: 81.78\n",
            "Epoch: 96\tTrain loss: 0.4887\tValid loss: 0.5293\tTrain accuracy: 83.07\tValid accuracy: 81.56\n",
            "Epoch: 97\tTrain loss: 0.4882\tValid loss: 0.5597\tTrain accuracy: 82.23\tValid accuracy: 80.79\n",
            "Epoch: 98\tTrain loss: 0.4839\tValid loss: 0.5307\tTrain accuracy: 83.32\tValid accuracy: 81.70\n",
            "Epoch: 99\tTrain loss: 0.4803\tValid loss: 0.5290\tTrain accuracy: 83.41\tValid accuracy: 81.68\n"
          ]
        }
      ],
      "source": [
        "model, optimizer, (train_losses, valid_losses), (train_accuracies, valid_accuracies) = training_loop(model, criterion, optimizer,\n",
        "                                                                                                     train_loader, test_loader, EPOCHS, DEVICE)\n"
      ]
    },
    {
      "cell_type": "markdown",
      "metadata": {},
      "source": [
        "## Plot Accuracy and Loss"
      ]
    },
    {
      "cell_type": "code",
      "execution_count": 25,
      "metadata": {
        "id": "Nso-asIhS90N"
      },
      "outputs": [
        {
          "data": {
            "image/png": "[encoded data removed]",
            "text/plain": [
              "<Figure size 432x288 with 1 Axes>"
            ]
          },
          "metadata": {
            "needs_background": "light"
          },
          "output_type": "display_data"
        },
        {
          "data": {
            "image/png": "[encoded data removed]",
            "text/plain": [
              "<Figure size 432x288 with 1 Axes>"
            ]
          },
          "metadata": {
            "needs_background": "light"
          },
          "output_type": "display_data"
        }
      ],
      "source": [
        "SAVE_PLOTS = False\n",
        "if SAVE_PLOTS:\n",
        "    matplotlib.use(\"Agg\")\n",
        "\n",
        "# Plot Loss\n",
        "plt.figure()\n",
        "plt.title(\"Training and Validation Loss\")\n",
        "plt.plot(range(len(train_losses)), train_losses, color=\"r\", label=\"Training\")\n",
        "plt.plot(range(len(valid_losses)), valid_losses, color=\"b\", label=\"Validation\")\n",
        "plt.legend(loc=\"best\")\n",
        "plt.ylabel(\"Loss\")\n",
        "plt.xlabel(\"Epochs\")\n",
        "if SAVE_PLOTS:\n",
        "    plt.savefig(\n",
        "        \"plots/centralised_LR[{}]_EPOCHS[{}]_BATCHNORM[{}]_GROUPNORM[{},{},{}]_loss.png\".format(LEARNING_RATE, EPOCHS, BATCH_NORM, GROUP_NORM, groupNormParams['groupNL1'], groupNormParams['groupNL2']))\n",
        "else:\n",
        "    plt.show()\n",
        "\n",
        "# Plot Accuracy\n",
        "plt.figure()\n",
        "plt.title(\"Training and Validation Accuracy\")\n",
        "plt.plot(range(len(train_accuracies)),\n",
        "         train_accuracies, color=\"r\", label=\"Training\")\n",
        "plt.plot(range(len(valid_accuracies)), valid_accuracies,\n",
        "         color=\"b\", label=\"Validation\")\n",
        "plt.legend(loc=\"best\")\n",
        "plt.ylabel(\"Accuracy\")\n",
        "plt.xlabel(\"Epochs\")\n",
        "if SAVE_PLOTS:\n",
        "    plt.savefig(\n",
        "        \"plots/centralised_LR[{}]_EPOCHS[{}]_BATCHNORM[{}]_GROUPNORM[{},{},{}]_accuracy.png\".format(LEARNING_RATE, EPOCHS, BATCH_NORM, GROUP_NORM, groupNormParams['groupNL1'], groupNormParams['groupNL2']))\n",
        "else:\n",
        "    plt.show()\n"
      ]
    }
  ],
  "metadata": {
    "accelerator": "GPU",
    "colab": {
      "authorship_tag": "ABX9TyOHbIqVnL0EicjZQKAFl3Mm",
      "collapsed_sections": [],
      "name": "centralisedModel.ipynb",
      "provenance": []
    },
    "kernelspec": {
      "display_name": "Python 3",
      "name": "python3"
    },
    "language_info": {
      "codemirror_mode": {
        "name": "ipython",
        "version": 3
      },
      "file_extension": ".py",
      "mimetype": "text/x-python",
      "name": "python",
      "nbconvert_exporter": "python",
      "pygments_lexer": "ipython3",
      "version": "3.9.9"
    }
  },
  "nbformat": 4,
  "nbformat_minor": 0
}
