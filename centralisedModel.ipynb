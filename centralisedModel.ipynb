{
  "cells": [
    {
      "cell_type": "markdown",
      "metadata": {},
      "source": [
        "## Import libraries"
      ]
    },
    {
      "cell_type": "code",
      "execution_count": 13,
      "metadata": {
        "id": "pOIPm-AJwPJ6"
      },
      "outputs": [],
      "source": [
        "import torch\n",
        "import torch.nn as nn\n",
        "from torchvision import datasets, transforms\n",
        "from lenet5 import LeNet\n",
        "import matplotlib\n",
        "import matplotlib.pyplot as plt"
      ]
    },
    {
      "cell_type": "markdown",
      "metadata": {},
      "source": [
        "## Set Parameters "
      ]
    },
    {
      "cell_type": "code",
      "execution_count": 14,
      "metadata": {},
      "outputs": [],
      "source": [
        "# Check if cuda is available\n",
        "DEVICE = 'cuda' if torch.cuda.is_available() else 'cpu'\n",
        "\n",
        "# Model Training Parameters\n",
        "EPOCHS = 100\n",
        "LEARNING_RATE = 2e-3\n",
        "BATCH_SIZE = 32\n",
        "\n",
        "# Save plots in the folder ./plots or show them\n",
        "SAVE_PLOTS = False\n",
        "\n",
        "\n",
        "# Use batch normalization or not\n",
        "BATCH_NORM = False \n",
        "# group normalization\n",
        "GROUP_NORM = False \n",
        "\n",
        "# group normalization parameters\n",
        "groupNormParams= {\n",
        "'groupNL1' : 2,\n",
        "'groupNL2' :2\n",
        "}\n",
        "\n",
        "\n",
        "if GROUP_NORM ==True & BATCH_NORM ==True:\n",
        "    print(\" Cannot have group an batch normalization True at the same time\")\n",
        "    exit()\n"
      ]
    },
    {
      "cell_type": "markdown",
      "metadata": {},
      "source": [
        "## Training and Validation functions"
      ]
    },
    {
      "cell_type": "code",
      "execution_count": 15,
      "metadata": {
        "id": "SyrXscPNxhol"
      },
      "outputs": [],
      "source": [
        "def train(train_loader, model, criterion, optimizer, device):\n",
        "    model.train()\n",
        "    running_loss = 0\n",
        "    for X, y_target in train_loader:\n",
        "\n",
        "        # Set gradient to zero\n",
        "        optimizer.zero_grad()\n",
        "\n",
        "        # If there is a GPU, pass the data to the GPU\n",
        "\n",
        "        X = X.to(device)\n",
        "        y_target = y_target.to(device)\n",
        "\n",
        "        # Prediction\n",
        "\n",
        "        # Call model forward()\n",
        "        y_predict, _ = model(X)\n",
        "\n",
        "        # Get loss\n",
        "        loss = criterion(y_predict, y_target)\n",
        "        running_loss += loss.item() * X.size(0)\n",
        "\n",
        "        # Adjusting weights\n",
        "        loss.backward()\n",
        "        optimizer.step()\n",
        "\n",
        "    epoch_loss = running_loss / len(train_loader.dataset)\n",
        "    return model, optimizer, epoch_loss\n",
        "\n",
        "\n",
        "def test(valid_loader, model, criterion, device):\n",
        "    model.eval()\n",
        "    running_loss = 0\n",
        "\n",
        "    for X, y_target in valid_loader:\n",
        "        # If there is a GPU\n",
        "\n",
        "        X = X.to(device)\n",
        "        y_target = y_target.to(device)\n",
        "\n",
        "        # Prediction and loss\n",
        "\n",
        "        # Call model forward()\n",
        "        y_predict, _ = model(X)\n",
        "        \n",
        "        # Get loss\n",
        "        loss = criterion(y_predict, y_target)\n",
        "        running_loss += loss.item() * X.size(0)\n",
        "\n",
        "    epoch_loss = running_loss / len(valid_loader.dataset)\n",
        "    return model, epoch_loss\n",
        "\n",
        "\n",
        "def get_accuracy(model, data_loader, device):\n",
        "    '''\n",
        "    Function for computing the accuracy of the predictions over the entire data_loader\n",
        "    '''\n",
        "\n",
        "    correct_pred = 0\n",
        "    n = 0\n",
        "\n",
        "    with torch.no_grad():\n",
        "        model.eval()\n",
        "        for X, y_true in data_loader:\n",
        "\n",
        "            X = X.to(device)\n",
        "            y_true = y_true.to(device)\n",
        "\n",
        "            _, y_prob = model(X)\n",
        "            _, predicted_labels = torch.max(y_prob, 1)\n",
        "\n",
        "            n += y_true.size(0)\n",
        "            correct_pred += (predicted_labels == y_true).sum()\n",
        "\n",
        "    return correct_pred.float() / n\n"
      ]
    },
    {
      "cell_type": "code",
      "execution_count": 16,
      "metadata": {},
      "outputs": [],
      "source": [
        "def training_loop(model, criterion, optimizer, train_loader, test_loader,\n",
        "                  epochs, device, print_every=1):\n",
        "\n",
        "    train_losses = []\n",
        "    valid_losses = []\n",
        "\n",
        "    train_accuracies = []\n",
        "    valid_accuracies = []\n",
        "\n",
        "    # Train model\n",
        "    for epoch in range(epochs):\n",
        "        model, optimizer, train_loss = train(train_loader, model,\n",
        "                                             criterion, optimizer, device)\n",
        "        train_losses.append(train_loss)\n",
        "\n",
        "        # Validation\n",
        "\n",
        "        # Disable gradient calculation to save memory\n",
        "        with torch.no_grad():\n",
        "            model, valid_loss = test(test_loader, model, criterion, device)\n",
        "            valid_losses.append(valid_loss)\n",
        "\n",
        "        if epoch % print_every == (print_every - 1):\n",
        "            train_acc = get_accuracy(model, train_loader, device)\n",
        "            valid_acc = get_accuracy(model, test_loader, device)\n",
        "\n",
        "            train_accuracies.append(train_acc)\n",
        "            valid_accuracies.append(valid_acc)\n",
        "\n",
        "            print(f'Epoch: {epoch}\\t'\n",
        "                  f'Train loss: {train_loss:.4f}\\t'\n",
        "                  f'Valid loss: {valid_loss:.4f}\\t'\n",
        "                  f'Train accuracy: {100 * train_acc:.2f}\\t'\n",
        "                  f'Valid accuracy: {100 * valid_acc:.2f}')\n",
        "\n",
        "    return model, optimizer, (train_losses, valid_losses), (train_accuracies, valid_accuracies)\n"
      ]
    },
    {
      "cell_type": "markdown",
      "metadata": {},
      "source": [
        "## Loaders and Transformations"
      ]
    },
    {
      "cell_type": "code",
      "execution_count": 17,
      "metadata": {
        "id": "fFZ49UhVxna4"
      },
      "outputs": [],
      "source": [
        "# Image augmentation\n",
        "transform_train = transforms.Compose([\n",
        "    transforms.RandomCrop(32, padding=4),\n",
        "    transforms.RandomHorizontalFlip(),\n",
        "    transforms.ToTensor(),\n",
        "    transforms.Normalize((0.4914, 0.4822, 0.4465), (0.2023, 0.1994, 0.2010)),\n",
        "])\n",
        "\n",
        "# Normalizing the test images\n",
        "transform_test = transforms.Compose([\n",
        "    transforms.ToTensor(),\n",
        "    transforms.Normalize((0.4914, 0.4822, 0.4465), (0.2023, 0.1994, 0.2010)),\n",
        "])\n",
        "\n",
        "# Loading CIFAR10 using torchvision.datasets\n",
        "traindata = datasets.CIFAR10('./data', train=True, download=False,\n",
        "                             transform=transform_train)\n",
        "\n",
        "# Creating a pytorch loader for a Deep Learning model\n",
        "train_loader = torch.utils.data.DataLoader(\n",
        "    traindata, batch_size=BATCH_SIZE, shuffle=True)\n",
        "\n",
        "# Loading the test images and thus converting them into a test_loader\n",
        "test_loader = torch.utils.data.DataLoader(datasets.CIFAR10('./data', train=False,\n",
        "                                                           transform=transforms.Compose([transforms.ToTensor(),\n",
        "                                                                                         transforms.Normalize((0.4914, 0.4822, 0.4465), (0.2023, 0.1994, 0.2010))])\n",
        "                                                           ), batch_size=BATCH_SIZE, shuffle=True)\n"
      ]
    },
    {
      "cell_type": "markdown",
      "metadata": {},
      "source": [
        "## Model Selection"
      ]
    },
    {
      "cell_type": "code",
      "execution_count": 18,
      "metadata": {
        "colab": {
          "base_uri": "https://localhost:8080/"
        },
        "id": "--l17eNixqMf",
        "outputId": "3e366c82-bd9a-4ece-dda5-e0e9b0b72f62"
      },
      "outputs": [],
      "source": [
        "model = LeNet(BATCH_NORM,GROUP_NORM,groupNormParams).to(DEVICE)\n",
        "\n",
        "optimizer = torch.optim.SGD(model.parameters(), lr=LEARNING_RATE)\n",
        "criterion = nn.CrossEntropyLoss()\n"
      ]
    },
    {
      "cell_type": "markdown",
      "metadata": {},
      "source": [
        "## Train"
      ]
    },
    {
      "cell_type": "code",
      "execution_count": 19,
      "metadata": {},
      "outputs": [
        {
          "name": "stdout",
          "output_type": "stream",
          "text": [
            "Epoch: 0\tTrain loss: 2.2166\tValid loss: 2.0243\tTrain accuracy: 25.83\tValid accuracy: 27.98\n",
            "Epoch: 1\tTrain loss: 1.9585\tValid loss: 1.8254\tTrain accuracy: 30.40\tValid accuracy: 33.70\n",
            "Epoch: 2\tTrain loss: 1.8138\tValid loss: 1.6903\tTrain accuracy: 35.55\tValid accuracy: 37.59\n",
            "Epoch: 3\tTrain loss: 1.7074\tValid loss: 1.5918\tTrain accuracy: 38.54\tValid accuracy: 41.32\n",
            "Epoch: 4\tTrain loss: 1.6289\tValid loss: 1.5209\tTrain accuracy: 40.80\tValid accuracy: 44.74\n",
            "Epoch: 5\tTrain loss: 1.5694\tValid loss: 1.4845\tTrain accuracy: 43.89\tValid accuracy: 46.34\n",
            "Epoch: 6\tTrain loss: 1.5187\tValid loss: 1.4118\tTrain accuracy: 45.53\tValid accuracy: 49.27\n",
            "Epoch: 7\tTrain loss: 1.4757\tValid loss: 1.3707\tTrain accuracy: 46.92\tValid accuracy: 50.54\n",
            "Epoch: 8\tTrain loss: 1.4300\tValid loss: 1.3967\tTrain accuracy: 47.59\tValid accuracy: 50.92\n",
            "Epoch: 9\tTrain loss: 1.3824\tValid loss: 1.2751\tTrain accuracy: 51.16\tValid accuracy: 54.90\n",
            "Epoch: 10\tTrain loss: 1.3400\tValid loss: 1.2486\tTrain accuracy: 51.36\tValid accuracy: 55.34\n",
            "Epoch: 11\tTrain loss: 1.3028\tValid loss: 1.1817\tTrain accuracy: 54.87\tValid accuracy: 58.05\n",
            "Epoch: 12\tTrain loss: 1.2645\tValid loss: 1.1527\tTrain accuracy: 55.40\tValid accuracy: 59.10\n",
            "Epoch: 13\tTrain loss: 1.2301\tValid loss: 1.1125\tTrain accuracy: 57.66\tValid accuracy: 61.50\n",
            "Epoch: 14\tTrain loss: 1.1974\tValid loss: 1.1090\tTrain accuracy: 58.08\tValid accuracy: 61.22\n",
            "Epoch: 15\tTrain loss: 1.1710\tValid loss: 1.0571\tTrain accuracy: 59.91\tValid accuracy: 62.80\n",
            "Epoch: 16\tTrain loss: 1.1433\tValid loss: 1.0831\tTrain accuracy: 58.44\tValid accuracy: 61.99\n",
            "Epoch: 17\tTrain loss: 1.1204\tValid loss: 1.0260\tTrain accuracy: 61.24\tValid accuracy: 64.18\n",
            "Epoch: 18\tTrain loss: 1.0992\tValid loss: 1.0187\tTrain accuracy: 61.83\tValid accuracy: 64.12\n",
            "Epoch: 19\tTrain loss: 1.0794\tValid loss: 1.0322\tTrain accuracy: 61.40\tValid accuracy: 64.41\n",
            "Epoch: 20\tTrain loss: 1.0593\tValid loss: 0.9967\tTrain accuracy: 61.19\tValid accuracy: 65.69\n",
            "Epoch: 21\tTrain loss: 1.0459\tValid loss: 0.9888\tTrain accuracy: 62.79\tValid accuracy: 65.46\n",
            "Epoch: 22\tTrain loss: 1.0263\tValid loss: 0.9609\tTrain accuracy: 63.65\tValid accuracy: 66.16\n",
            "Epoch: 23\tTrain loss: 1.0098\tValid loss: 0.9496\tTrain accuracy: 64.17\tValid accuracy: 66.77\n",
            "Epoch: 24\tTrain loss: 0.9905\tValid loss: 0.9777\tTrain accuracy: 63.52\tValid accuracy: 66.75\n",
            "Epoch: 25\tTrain loss: 0.9741\tValid loss: 0.9078\tTrain accuracy: 66.33\tValid accuracy: 68.50\n",
            "Epoch: 26\tTrain loss: 0.9626\tValid loss: 0.8973\tTrain accuracy: 66.11\tValid accuracy: 69.38\n",
            "Epoch: 27\tTrain loss: 0.9492\tValid loss: 0.9021\tTrain accuracy: 66.02\tValid accuracy: 68.55\n",
            "Epoch: 28\tTrain loss: 0.9336\tValid loss: 0.8698\tTrain accuracy: 67.46\tValid accuracy: 69.99\n",
            "Epoch: 29\tTrain loss: 0.9199\tValid loss: 0.8727\tTrain accuracy: 68.05\tValid accuracy: 69.98\n",
            "Epoch: 30\tTrain loss: 0.9104\tValid loss: 0.8445\tTrain accuracy: 68.43\tValid accuracy: 70.73\n",
            "Epoch: 31\tTrain loss: 0.8976\tValid loss: 0.8569\tTrain accuracy: 68.02\tValid accuracy: 70.38\n",
            "Epoch: 32\tTrain loss: 0.8812\tValid loss: 0.8473\tTrain accuracy: 68.93\tValid accuracy: 70.34\n",
            "Epoch: 33\tTrain loss: 0.8707\tValid loss: 0.8310\tTrain accuracy: 69.77\tValid accuracy: 71.13\n",
            "Epoch: 34\tTrain loss: 0.8564\tValid loss: 0.8136\tTrain accuracy: 70.09\tValid accuracy: 71.90\n",
            "Epoch: 35\tTrain loss: 0.8527\tValid loss: 0.8095\tTrain accuracy: 70.57\tValid accuracy: 72.34\n",
            "Epoch: 36\tTrain loss: 0.8379\tValid loss: 0.7966\tTrain accuracy: 70.61\tValid accuracy: 72.33\n",
            "Epoch: 37\tTrain loss: 0.8234\tValid loss: 0.7853\tTrain accuracy: 71.00\tValid accuracy: 72.82\n",
            "Epoch: 38\tTrain loss: 0.8127\tValid loss: 0.8137\tTrain accuracy: 69.71\tValid accuracy: 71.30\n",
            "Epoch: 39\tTrain loss: 0.8065\tValid loss: 0.7636\tTrain accuracy: 72.09\tValid accuracy: 73.89\n",
            "Epoch: 40\tTrain loss: 0.7972\tValid loss: 0.7503\tTrain accuracy: 72.76\tValid accuracy: 74.20\n",
            "Epoch: 41\tTrain loss: 0.7874\tValid loss: 0.7666\tTrain accuracy: 72.01\tValid accuracy: 73.36\n",
            "Epoch: 42\tTrain loss: 0.7809\tValid loss: 0.7256\tTrain accuracy: 73.65\tValid accuracy: 75.14\n",
            "Epoch: 43\tTrain loss: 0.7702\tValid loss: 0.7383\tTrain accuracy: 73.10\tValid accuracy: 74.52\n",
            "Epoch: 44\tTrain loss: 0.7614\tValid loss: 0.7572\tTrain accuracy: 72.09\tValid accuracy: 74.12\n",
            "Epoch: 45\tTrain loss: 0.7544\tValid loss: 0.7594\tTrain accuracy: 72.53\tValid accuracy: 73.39\n",
            "Epoch: 46\tTrain loss: 0.7488\tValid loss: 0.7133\tTrain accuracy: 74.26\tValid accuracy: 75.40\n",
            "Epoch: 47\tTrain loss: 0.7417\tValid loss: 0.7220\tTrain accuracy: 74.31\tValid accuracy: 75.12\n",
            "Epoch: 48\tTrain loss: 0.7341\tValid loss: 0.6963\tTrain accuracy: 75.19\tValid accuracy: 75.94\n",
            "Epoch: 49\tTrain loss: 0.7278\tValid loss: 0.7076\tTrain accuracy: 74.79\tValid accuracy: 74.84\n",
            "Epoch: 50\tTrain loss: 0.7183\tValid loss: 0.7158\tTrain accuracy: 74.04\tValid accuracy: 74.76\n",
            "Epoch: 51\tTrain loss: 0.7119\tValid loss: 0.6904\tTrain accuracy: 75.76\tValid accuracy: 75.84\n",
            "Epoch: 52\tTrain loss: 0.7046\tValid loss: 0.7128\tTrain accuracy: 74.54\tValid accuracy: 75.17\n",
            "Epoch: 53\tTrain loss: 0.6996\tValid loss: 0.7021\tTrain accuracy: 74.89\tValid accuracy: 75.68\n",
            "Epoch: 54\tTrain loss: 0.6892\tValid loss: 0.6844\tTrain accuracy: 75.51\tValid accuracy: 76.13\n",
            "Epoch: 55\tTrain loss: 0.6850\tValid loss: 0.6682\tTrain accuracy: 75.94\tValid accuracy: 76.61\n",
            "Epoch: 56\tTrain loss: 0.6810\tValid loss: 0.6699\tTrain accuracy: 76.54\tValid accuracy: 76.60\n",
            "Epoch: 57\tTrain loss: 0.6734\tValid loss: 0.6773\tTrain accuracy: 76.20\tValid accuracy: 76.56\n",
            "Epoch: 58\tTrain loss: 0.6672\tValid loss: 0.6703\tTrain accuracy: 76.38\tValid accuracy: 76.38\n",
            "Epoch: 59\tTrain loss: 0.6656\tValid loss: 0.6657\tTrain accuracy: 77.02\tValid accuracy: 76.65\n",
            "Epoch: 60\tTrain loss: 0.6601\tValid loss: 0.6580\tTrain accuracy: 77.08\tValid accuracy: 77.25\n",
            "Epoch: 61\tTrain loss: 0.6531\tValid loss: 0.6675\tTrain accuracy: 76.94\tValid accuracy: 76.75\n",
            "Epoch: 62\tTrain loss: 0.6444\tValid loss: 0.6478\tTrain accuracy: 77.82\tValid accuracy: 77.43\n",
            "Epoch: 63\tTrain loss: 0.6437\tValid loss: 0.6513\tTrain accuracy: 77.24\tValid accuracy: 77.31\n",
            "Epoch: 64\tTrain loss: 0.6399\tValid loss: 0.6412\tTrain accuracy: 77.79\tValid accuracy: 77.76\n",
            "Epoch: 65\tTrain loss: 0.6331\tValid loss: 0.6538\tTrain accuracy: 77.58\tValid accuracy: 77.03\n",
            "Epoch: 66\tTrain loss: 0.6315\tValid loss: 0.6352\tTrain accuracy: 78.31\tValid accuracy: 77.78\n",
            "Epoch: 67\tTrain loss: 0.6245\tValid loss: 0.6559\tTrain accuracy: 77.55\tValid accuracy: 76.78\n",
            "Epoch: 68\tTrain loss: 0.6210\tValid loss: 0.6458\tTrain accuracy: 78.53\tValid accuracy: 77.55\n",
            "Epoch: 69\tTrain loss: 0.6179\tValid loss: 0.6596\tTrain accuracy: 77.88\tValid accuracy: 77.15\n",
            "Epoch: 70\tTrain loss: 0.6085\tValid loss: 0.6133\tTrain accuracy: 79.62\tValid accuracy: 78.66\n",
            "Epoch: 71\tTrain loss: 0.6032\tValid loss: 0.6093\tTrain accuracy: 79.73\tValid accuracy: 79.00\n",
            "Epoch: 72\tTrain loss: 0.6043\tValid loss: 0.6114\tTrain accuracy: 79.32\tValid accuracy: 78.82\n",
            "Epoch: 73\tTrain loss: 0.5926\tValid loss: 0.6328\tTrain accuracy: 78.07\tValid accuracy: 77.61\n",
            "Epoch: 74\tTrain loss: 0.5916\tValid loss: 0.6169\tTrain accuracy: 79.51\tValid accuracy: 78.45\n",
            "Epoch: 75\tTrain loss: 0.5919\tValid loss: 0.6300\tTrain accuracy: 79.31\tValid accuracy: 78.16\n",
            "Epoch: 76\tTrain loss: 0.5896\tValid loss: 0.6123\tTrain accuracy: 79.84\tValid accuracy: 78.82\n",
            "Epoch: 77\tTrain loss: 0.5740\tValid loss: 0.6057\tTrain accuracy: 80.14\tValid accuracy: 78.73\n",
            "Epoch: 78\tTrain loss: 0.5761\tValid loss: 0.6009\tTrain accuracy: 80.11\tValid accuracy: 78.65\n",
            "Epoch: 79\tTrain loss: 0.5739\tValid loss: 0.6391\tTrain accuracy: 78.56\tValid accuracy: 77.92\n",
            "Epoch: 80\tTrain loss: 0.5670\tValid loss: 0.6172\tTrain accuracy: 79.97\tValid accuracy: 78.71\n",
            "Epoch: 81\tTrain loss: 0.5657\tValid loss: 0.5949\tTrain accuracy: 80.74\tValid accuracy: 79.36\n",
            "Epoch: 82\tTrain loss: 0.5602\tValid loss: 0.6289\tTrain accuracy: 79.75\tValid accuracy: 78.29\n",
            "Epoch: 83\tTrain loss: 0.5586\tValid loss: 0.6065\tTrain accuracy: 80.31\tValid accuracy: 78.99\n",
            "Epoch: 84\tTrain loss: 0.5548\tValid loss: 0.6139\tTrain accuracy: 80.51\tValid accuracy: 78.82\n",
            "Epoch: 85\tTrain loss: 0.5536\tValid loss: 0.6057\tTrain accuracy: 80.55\tValid accuracy: 78.98\n",
            "Epoch: 86\tTrain loss: 0.5450\tValid loss: 0.6084\tTrain accuracy: 80.56\tValid accuracy: 79.07\n",
            "Epoch: 87\tTrain loss: 0.5479\tValid loss: 0.5847\tTrain accuracy: 81.47\tValid accuracy: 79.73\n",
            "Epoch: 88\tTrain loss: 0.5380\tValid loss: 0.5933\tTrain accuracy: 81.16\tValid accuracy: 79.24\n",
            "Epoch: 89\tTrain loss: 0.5366\tValid loss: 0.5824\tTrain accuracy: 81.63\tValid accuracy: 79.52\n",
            "Epoch: 90\tTrain loss: 0.5334\tValid loss: 0.5913\tTrain accuracy: 81.46\tValid accuracy: 79.31\n",
            "Epoch: 91\tTrain loss: 0.5280\tValid loss: 0.6123\tTrain accuracy: 80.56\tValid accuracy: 78.33\n",
            "Epoch: 92\tTrain loss: 0.5269\tValid loss: 0.5777\tTrain accuracy: 81.85\tValid accuracy: 79.72\n",
            "Epoch: 93\tTrain loss: 0.5244\tValid loss: 0.5788\tTrain accuracy: 82.25\tValid accuracy: 79.69\n",
            "Epoch: 94\tTrain loss: 0.5233\tValid loss: 0.5795\tTrain accuracy: 82.24\tValid accuracy: 79.86\n",
            "Epoch: 95\tTrain loss: 0.5214\tValid loss: 0.5826\tTrain accuracy: 81.79\tValid accuracy: 79.74\n",
            "Epoch: 96\tTrain loss: 0.5141\tValid loss: 0.6189\tTrain accuracy: 81.23\tValid accuracy: 78.47\n",
            "Epoch: 97\tTrain loss: 0.5130\tValid loss: 0.6074\tTrain accuracy: 81.10\tValid accuracy: 78.91\n",
            "Epoch: 98\tTrain loss: 0.5069\tValid loss: 0.5936\tTrain accuracy: 82.06\tValid accuracy: 79.59\n",
            "Epoch: 99\tTrain loss: 0.5092\tValid loss: 0.6049\tTrain accuracy: 81.58\tValid accuracy: 78.98\n"
          ]
        }
      ],
      "source": [
        "model, optimizer, (train_losses, valid_losses), (train_accuracies, valid_accuracies) = training_loop(model, criterion, optimizer,\n",
        "                                                                                                     train_loader, test_loader, EPOCHS, DEVICE)\n"
      ]
    },
    {
      "cell_type": "markdown",
      "metadata": {},
      "source": [
        "## Plot Accuracy and Loss"
      ]
    },
    {
      "cell_type": "code",
      "execution_count": 21,
      "metadata": {
        "id": "Nso-asIhS90N"
      },
      "outputs": [
        {
          "data": {
            "image/png": "[encoded data removed]",
            "text/plain": [
              "<Figure size 432x288 with 1 Axes>"
            ]
          },
          "metadata": {
            "needs_background": "light"
          },
          "output_type": "display_data"
        },
        {
          "data": {
            "image/png": "[encoded data removed]",
            "text/plain": [
              "<Figure size 432x288 with 1 Axes>"
            ]
          },
          "metadata": {
            "needs_background": "light"
          },
          "output_type": "display_data"
        }
      ],
      "source": [
        "SAVE_PLOTS = True\n",
        "if SAVE_PLOTS:\n",
        "    matplotlib.use(\"Agg\")\n",
        "\n",
        "# Plot Loss\n",
        "plt.figure()\n",
        "plt.title(\"Training and Validation Loss\")\n",
        "plt.plot(range(len(train_losses)), train_losses, color=\"r\", label=\"Training\")\n",
        "plt.plot(range(len(valid_losses)), valid_losses, color=\"b\", label=\"Validation\")\n",
        "plt.legend(loc=\"best\")\n",
        "plt.ylabel(\"Loss\")\n",
        "plt.xlabel(\"Epochs\")\n",
        "if SAVE_PLOTS:\n",
        "    plt.savefig(\n",
        "        \"plots/centralised_LR[{}]_EPOCHS[{}]_loss.png\".format(LEARNING_RATE, EPOCHS))\n",
        "else:\n",
        "    plt.show()\n",
        "\n",
        "# Plot Accuracy\n",
        "plt.figure()\n",
        "plt.title(\"Training and Validation Accuracy\")\n",
        "plt.plot(range(len(train_accuracies)),\n",
        "         train_accuracies, color=\"r\", label=\"Training\")\n",
        "plt.plot(range(len(valid_accuracies)), valid_accuracies,\n",
        "         color=\"b\", label=\"Validation\")\n",
        "plt.legend(loc=\"best\")\n",
        "plt.ylabel(\"Accuracy\")\n",
        "plt.xlabel(\"Epochs\")\n",
        "if SAVE_PLOTS:\n",
        "    plt.savefig(\n",
        "        \"plots/centralised_LR[{}]_EPOCHS[{}]_accuracy.png\".format(LEARNING_RATE, EPOCHS))\n",
        "else:\n",
        "    plt.show()\n"
      ]
    }
  ],
  "metadata": {
    "accelerator": "GPU",
    "colab": {
      "authorship_tag": "ABX9TyOHbIqVnL0EicjZQKAFl3Mm",
      "collapsed_sections": [],
      "name": "centralisedModel.ipynb",
      "provenance": []
    },
    "kernelspec": {
      "display_name": "Python 3",
      "name": "python3"
    },
    "language_info": {
      "codemirror_mode": {
        "name": "ipython",
        "version": 3
      },
      "file_extension": ".py",
      "mimetype": "text/x-python",
      "name": "python",
      "nbconvert_exporter": "python",
      "pygments_lexer": "ipython3",
      "version": "3.9.9"
    }
  },
  "nbformat": 4,
  "nbformat_minor": 0
}
